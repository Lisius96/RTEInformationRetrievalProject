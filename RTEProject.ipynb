{
  "cells": [
    {
      "cell_type": "code",
      "execution_count": 1,
      "metadata": {
        "colab": {
          "base_uri": "https://localhost:8080/"
        },
        "id": "VPc3fgFxXWI4",
        "outputId": "e4113169-834c-4d89-b28a-9883327c22ae"
      },
      "outputs": [
        {
          "output_type": "stream",
          "name": "stderr",
          "text": [
            "[nltk_data] Downloading package punkt to /root/nltk_data...\n",
            "[nltk_data]   Unzipping tokenizers/punkt.zip.\n"
          ]
        }
      ],
      "source": [
        "import pandas as pd\n",
        "import numpy as np\n",
        "from tqdm.notebook import tqdm\n",
        "import nltk\n",
        "nltk.download('punkt')\n",
        "import matplotlib.pyplot as plt\n",
        "import json\n",
        "from collections import defaultdict\n",
        "from nltk.tokenize import word_tokenize\n",
        "from nltk.stem import WordNetLemmatizer\n",
        "from string import punctuation\n",
        "from numpy.linalg import norm\n",
        "import tensorflow as tf\n",
        "import seaborn as sns\n",
        "import warnings\n",
        "warnings.filterwarnings(\"ignore\")"
      ]
    },
    {
      "cell_type": "code",
      "execution_count": 2,
      "metadata": {
        "id": "4KiFl2juY6sy"
      },
      "outputs": [],
      "source": [
        "lemmatizer= WordNetLemmatizer()"
      ]
    },
    {
      "cell_type": "code",
      "execution_count": 3,
      "metadata": {
        "id": "vaQ5wEr6Y63a"
      },
      "outputs": [],
      "source": [
        "from sklearn.linear_model import LogisticRegression\n",
        "from sklearn.metrics import classification_report, confusion_matrix"
      ]
    },
    {
      "cell_type": "code",
      "execution_count": null,
      "metadata": {
        "colab": {
          "base_uri": "https://localhost:8080/"
        },
        "id": "6jfirCrJfkV2",
        "outputId": "5ca8a5b4-553a-4f22-afa0-1c1872a69e8a"
      },
      "outputs": [
        {
          "output_type": "stream",
          "name": "stdout",
          "text": [
            "  % Total    % Received % Xferd  Average Speed   Time    Time     Time  Current\n",
            "                                 Dload  Upload   Total   Spent    Left  Speed\n",
            "100 11.1M  100 11.1M    0     0  6630k      0  0:00:01  0:00:01 --:--:-- 6630k\n",
            "SNLI_Corpus/\n",
            "SNLI_Corpus/snli_1.0_dev.csv\n",
            "SNLI_Corpus/snli_1.0_train.csv\n",
            "SNLI_Corpus/snli_1.0_test.csv\n"
          ]
        }
      ],
      "source": [
        "#df_train= pd.read_json(\"snli_1.0_train.jsonl\", lines=True)\n",
        "#df_test= pd.read_json(\"snli_1.0_test.jsonl\", lines=True)\n",
        "#df_validation= pd.read_json(\"snli_1.0_dev.jsonl\", lines=True)\n",
        "!curl -LO https://raw.githubusercontent.com/MohamadMerchant/SNLI/master/data.tar.gz\n",
        "!tar -xvzf data.tar.gz"
      ]
    },
    {
      "cell_type": "code",
      "execution_count": null,
      "metadata": {
        "id": "bRohc8AUCkZB"
      },
      "outputs": [],
      "source": [
        "df_train = pd.read_csv(\"SNLI_Corpus/snli_1.0_train.csv\")\n",
        "df_valid = pd.read_csv(\"SNLI_Corpus/snli_1.0_dev.csv\")\n",
        "df_test = pd.read_csv(\"SNLI_Corpus/snli_1.0_test.csv\")\n",
        "#df_t1=pd.read_json(\"multinli_1.0_dev_mismatched.jsonl\", lines=True)"
      ]
    },
    {
      "cell_type": "code",
      "execution_count": null,
      "metadata": {
        "id": "7FOY-69HDChy"
      },
      "outputs": [],
      "source": [
        "df_train.dropna(axis=0, inplace=True)"
      ]
    },
    {
      "cell_type": "code",
      "execution_count": null,
      "metadata": {
        "id": "bNnijXjj2ckm"
      },
      "outputs": [],
      "source": [
        "df_train = (\n",
        "    df_train[df_train.similarity != \"-\"]\n",
        "    .sample(frac=1.0, random_state=42) #modificato valore da 42 a 0 di random state\n",
        "    .reset_index(drop=True)\n",
        ")\n",
        "\n",
        "df_train = (\n",
        "    df_train[df_train.similarity != \"neutral\"]\n",
        "    .sample(frac=1.0, random_state=42)\n",
        "    .reset_index(drop=True)\n",
        ")\n",
        "\n",
        "df_valid = (\n",
        "    df_valid[df_valid.similarity != \"-\"]\n",
        "    .sample(frac=1.0, random_state=42)\n",
        "    .reset_index(drop=True)\n",
        ")\n",
        "\n",
        "df_valid = (\n",
        "    df_valid[df_valid.similarity != \"neutral\"]\n",
        "    .sample(frac=1.0, random_state=42)\n",
        "    .reset_index(drop=True)\n",
        ")\n",
        "\n",
        "df_test = (\n",
        "    df_test[df_test.similarity !='-']\n",
        "    .sample(frac=1.0, random_state=42)\n",
        "    .reset_index(drop=True)\n",
        ")\n",
        "\n",
        "df_test = (\n",
        "    df_test[df_test.similarity !='neutral']\n",
        "    .sample(frac=1.0, random_state=42)\n",
        "    .reset_index(drop=True)\n",
        ")"
      ]
    },
    {
      "cell_type": "code",
      "execution_count": null,
      "metadata": {
        "id": "EnwPeH6rfkYU"
      },
      "outputs": [],
      "source": [
        "df_train[\"label\"] = df_train[\"similarity\"].apply(\n",
        "    lambda x: 0 if x == \"contradiction\" else 1\n",
        ")\n",
        "#y_train = tf.keras.utils.to_categorical(df_train.label, num_classes=2)\n",
        "\n",
        "df_valid[\"label\"] = df_valid[\"similarity\"].apply(\n",
        "    lambda x: 0 if x == \"contradiction\" else 1 \n",
        ")\n",
        "#y_val = tf.keras.utils.to_categorical(df_valid.label, num_classes=2)\n",
        "\n",
        "df_test[\"label\"] = df_test[\"similarity\"].apply(\n",
        "    lambda x: 0 if x == \"contradiction\" else 1 \n",
        ")\n",
        "#y_test = tf.keras.utils.to_categorical(df_test.label, num_classes=2)"
      ]
    },
    {
      "cell_type": "code",
      "execution_count": 4,
      "metadata": {
        "id": "ok2T2Af95MEY"
      },
      "outputs": [],
      "source": [
        "#estrazione di gold_label, sentence1 e sentence2 in una lista\n",
        "def list_extractor(dataframe, label):\n",
        "  return dataframe[label].tolist()"
      ]
    },
    {
      "cell_type": "code",
      "execution_count": null,
      "metadata": {
        "id": "oS1scX_K5L9R"
      },
      "outputs": [],
      "source": [
        "sentence1_train= list_extractor(df_train, 'sentence1')\n",
        "sentence2_train= list_extractor(df_train, 'sentence2')\n",
        "label_train= df_train['label'].tolist()"
      ]
    },
    {
      "cell_type": "code",
      "execution_count": null,
      "metadata": {
        "id": "N2xs0GH569NH"
      },
      "outputs": [],
      "source": [
        "sentence1_test= list_extractor(df_test, 'sentence1')\n",
        "sentence2_test= list_extractor(df_test, 'sentence2')\n",
        "#label_test= df_test['label'].tolist()"
      ]
    },
    {
      "cell_type": "code",
      "execution_count": null,
      "metadata": {
        "id": "9daMitTAslxS"
      },
      "outputs": [],
      "source": [
        "sentence1_validation= list_extractor(df_valid, 'sentence1')\n",
        "sentence2_validation= list_extractor(df_valid, 'sentence2')\n",
        "#label_validation= df_valid['label'].tolist()"
      ]
    },
    {
      "cell_type": "code",
      "execution_count": 5,
      "metadata": {
        "colab": {
          "base_uri": "https://localhost:8080/"
        },
        "id": "dLW4o-3N69FJ",
        "outputId": "d50a56f6-2425-4392-9a6d-1e85c375598d"
      },
      "outputs": [
        {
          "output_type": "stream",
          "name": "stderr",
          "text": [
            "[nltk_data] Downloading package stopwords to /root/nltk_data...\n",
            "[nltk_data]   Unzipping corpora/stopwords.zip.\n"
          ]
        }
      ],
      "source": [
        "nltk.download('stopwords')\n",
        "from nltk.corpus import stopwords"
      ]
    },
    {
      "cell_type": "code",
      "execution_count": 6,
      "metadata": {
        "id": "nLPNHR9q89GR"
      },
      "outputs": [],
      "source": [
        "stopws=['of', 'from', 'the', 'a', 'an', 'at','with','and','or','o','(',')','uh','um','but']\n",
        "def tokenize(text):\n",
        "  return[lemmatizer.lemmatize(x.lower()) for x in nltk.word_tokenize(text) if x not in punctuation and x not in stopws]\n",
        "#nltk_tokenize= lambda text: [x.lower() for x in nltk.word_tokenize(text) if x not in punctuation]"
      ]
    },
    {
      "cell_type": "code",
      "execution_count": 7,
      "metadata": {
        "colab": {
          "base_uri": "https://localhost:8080/"
        },
        "id": "-Hk0ksHx89DQ",
        "outputId": "ddc46d55-fed5-44c2-98de-e33762ae470f"
      },
      "outputs": [
        {
          "output_type": "stream",
          "name": "stderr",
          "text": [
            "[nltk_data] Downloading package averaged_perceptron_tagger to\n",
            "[nltk_data]     /root/nltk_data...\n",
            "[nltk_data]   Unzipping taggers/averaged_perceptron_tagger.zip.\n"
          ]
        },
        {
          "output_type": "execute_result",
          "data": {
            "text/plain": [
              "True"
            ]
          },
          "metadata": {},
          "execution_count": 7
        }
      ],
      "source": [
        "from nltk import pos_tag\n",
        "from nltk.corpus import wordnet as wn \n",
        "nltk.download('averaged_perceptron_tagger')"
      ]
    },
    {
      "cell_type": "code",
      "source": [
        "from sklearn.feature_extraction.text import CountVectorizer"
      ],
      "metadata": {
        "id": "2evMus5yoBXU"
      },
      "execution_count": 8,
      "outputs": []
    },
    {
      "cell_type": "code",
      "source": [
        "from sklearn.metrics.pairwise import cosine_similarity"
      ],
      "metadata": {
        "id": "K4XZPGnSzBOA"
      },
      "execution_count": 9,
      "outputs": []
    },
    {
      "cell_type": "code",
      "source": [
        "def bag_of_words(sentence1, sentence2):\n",
        "  try:\n",
        "    CountVec = CountVectorizer(ngram_range=(1,1), stop_words=stopws)\n",
        "    Count_data = CountVec.fit_transform([sentence1,sentence2])\n",
        "    b1=Count_data[0].toarray()\n",
        "    b2=Count_data[1].toarray()\n",
        "    cosine= cosine_similarity(b1,b2).flatten()\n",
        "  except:\n",
        "    return 0.\n",
        "  return cosine"
      ],
      "metadata": {
        "id": "tOKWhiygoEwe"
      },
      "execution_count": null,
      "outputs": []
    },
    {
      "cell_type": "code",
      "source": [
        "list_cosine_bow=[bag_of_words(sentence1_train[i],sentence2_train[i])for i in range(len(sentence1_train))]"
      ],
      "metadata": {
        "id": "szt36qLr3CvF"
      },
      "execution_count": null,
      "outputs": []
    },
    {
      "cell_type": "code",
      "execution_count": null,
      "metadata": {
        "id": "FUR2gmuw884k"
      },
      "outputs": [],
      "source": [
        "#count occurrencies\n",
        "def count_freq(text,i,hypothesis):\n",
        "  token_text= tokenize(text[i])\n",
        "  token_hyp= tokenize(hypothesis[i])\n",
        "  bow1= defaultdict(lambda: 0)\n",
        "  bow2= defaultdict(lambda: 0)\n",
        "  for key in token_text:\n",
        "    bow1[key] +=1\n",
        "    if key in token_hyp:\n",
        "      bow2[key] +=1\n",
        "    else:\n",
        "      bow2[key] = 0\n",
        "\n",
        "  b1=[x for x in bow1.values()]\n",
        "  b2=[x for x in bow2.values()]\n",
        "  cosine=cosine_similarity(b1,b2)\n",
        "  return cosine"
      ]
    },
    {
      "cell_type": "code",
      "execution_count": 10,
      "metadata": {
        "id": "JtkfiNtU68-L"
      },
      "outputs": [],
      "source": [
        "from numpy.linalg import norm"
      ]
    },
    {
      "cell_type": "code",
      "execution_count": 11,
      "metadata": {
        "colab": {
          "base_uri": "https://localhost:8080/"
        },
        "id": "6-7mZyTgE6G0",
        "outputId": "1ae9417e-72b2-440a-9df0-f5745bde1314"
      },
      "outputs": [
        {
          "output_type": "stream",
          "name": "stderr",
          "text": [
            "[nltk_data] Downloading package wordnet to /root/nltk_data...\n",
            "[nltk_data] Downloading package omw-1.4 to /root/nltk_data...\n"
          ]
        }
      ],
      "source": [
        "nltk.download('wordnet')\n",
        "nltk.download('omw-1.4')\n",
        "from itertools import product"
      ]
    },
    {
      "cell_type": "code",
      "execution_count": null,
      "metadata": {
        "id": "bkrJRJTU5L1T"
      },
      "outputs": [],
      "source": [
        "#cosine values for train\n",
        "list_cosine=[]\n",
        "for i in range(len(sentence1_train)):\n",
        "  list_cosine.append(count_freq(sentence1_train,i,sentence2_train))"
      ]
    },
    {
      "cell_type": "code",
      "execution_count": null,
      "metadata": {
        "id": "Tc7m6pUkNiXT"
      },
      "outputs": [],
      "source": [
        "#cosine values for train\n",
        "cosine_values=[]\n",
        "for i in range(len(list_cosine)):\n",
        "  cosine_values.append(list_cosine[i])"
      ]
    },
    {
      "cell_type": "code",
      "execution_count": null,
      "metadata": {
        "id": "5uLbZL48UcKa"
      },
      "outputs": [],
      "source": [
        "#cosine values for test\n",
        "list_cosine_test=[]\n",
        "for i in range(len(sentence1_test)):\n",
        "  list_cosine_test.append(count_freq(sentence1_test,i,sentence2_test))"
      ]
    },
    {
      "cell_type": "code",
      "execution_count": null,
      "metadata": {
        "id": "dUxrA316U4l4"
      },
      "outputs": [],
      "source": [
        "#cosine values for test\n",
        "cosine_values_test=[]\n",
        "for i in range(len(list_cosine_test)):\n",
        "  cosine_values_test.append(list_cosine_test[i])"
      ]
    },
    {
      "cell_type": "code",
      "execution_count": null,
      "metadata": {
        "id": "y0NmHT_ptCQf"
      },
      "outputs": [],
      "source": [
        "#cosine values for validation\n",
        "list_cosine_validation=[]\n",
        "for i in range(len(sentence1_validation)):\n",
        "  list_cosine_validation.append(count_freq(sentence1_validation,i,sentence2_validation))"
      ]
    },
    {
      "cell_type": "code",
      "execution_count": null,
      "metadata": {
        "id": "KavTaKwCtCDQ"
      },
      "outputs": [],
      "source": [
        "#cosine values for validation\n",
        "cosine_values_validation=[]\n",
        "for i in range(len(list_cosine_validation)):\n",
        "  cosine_values_validation.append(list_cosine_validation[i])"
      ]
    },
    {
      "cell_type": "code",
      "source": [
        "import gensim"
      ],
      "metadata": {
        "id": "knUu2igcCjU4"
      },
      "execution_count": 12,
      "outputs": []
    },
    {
      "cell_type": "code",
      "source": [
        "from gensim.models import KeyedVectors"
      ],
      "metadata": {
        "id": "IjMKmhvzCli4"
      },
      "execution_count": 13,
      "outputs": []
    },
    {
      "cell_type": "markdown",
      "metadata": {
        "id": "09dl_CnLSH97"
      },
      "source": [
        "SIMILARITY USING GENSIM"
      ]
    },
    {
      "cell_type": "code",
      "execution_count": 14,
      "metadata": {
        "id": "899mKWb9dWVH",
        "colab": {
          "base_uri": "https://localhost:8080/"
        },
        "outputId": "19c4e863-31fa-48dc-cf9c-efc705a5ee24"
      },
      "outputs": [
        {
          "output_type": "stream",
          "name": "stdout",
          "text": [
            "[==================================================] 100.0% 1662.8/1662.8MB downloaded\n"
          ]
        }
      ],
      "source": [
        "import gensim.downloader as api\n",
        "wv = api.load('word2vec-google-news-300')"
      ]
    },
    {
      "cell_type": "code",
      "source": [
        "def func(sentence1, sentence2): #calcola la similarity utilizzando gensim\n",
        "  pairs=[]\n",
        "  tokens1= tokenize(sentence1)\n",
        "  tokens2= tokenize(sentence2)\n",
        "  pairs=[[(tokens1[i], tokens2[j]) for j in range(len(tokens2))] for i in range(len(tokens1))]\n",
        "  \n",
        "  list_sim=[]\n",
        "  sum_similarity=0\n",
        "  n, max, count= 0, 0, 0\n",
        "  for i in range(len(pairs)):\n",
        "      for t1,t2 in pairs[i]:\n",
        "        try:\n",
        "          list_sim.append(wv.similarity(t1,t2))\n",
        "          \n",
        "          count +=1\n",
        "          \n",
        "          if count == len(tokens2):\n",
        "            count= 0\n",
        "            max= list_sim[0]\n",
        "            for j in range(len(list_sim)):\n",
        "              if max < list_sim[j]:\n",
        "                max=list_sim[j]\n",
        "            list_sim.clear()\n",
        "            sum_similarity += max\n",
        "            n+= 1\n",
        "        except:\n",
        "            pass\n",
        "  \n",
        "  if n == 0:\n",
        "    return 0.001\n",
        "  return sum_similarity/n\n",
        "  "
      ],
      "metadata": {
        "id": "S3J3O1_0CpKL"
      },
      "execution_count": 15,
      "outputs": []
    },
    {
      "cell_type": "code",
      "execution_count": null,
      "metadata": {
        "id": "NxeMagHB95-D"
      },
      "outputs": [],
      "source": [
        "#similarity gensim for train\n",
        "sim_gensim_train=[]\n",
        "for i in range(len(sentence1_train)):\n",
        "  sim_gensim_train.append(func(sentence1_train[i], sentence2_train[i])) "
      ]
    },
    {
      "cell_type": "code",
      "execution_count": null,
      "metadata": {
        "id": "qdwTbxVArqa9"
      },
      "outputs": [],
      "source": [
        "#similarity gensim for test\n",
        "sim_gensim_test=[]\n",
        "for i in range(len(sentence1_test)):\n",
        "  sim_gensim_test.append(func(sentence1_test[i], sentence2_test[i])) "
      ]
    },
    {
      "cell_type": "code",
      "execution_count": null,
      "metadata": {
        "id": "ZJceVMrgvG9C"
      },
      "outputs": [],
      "source": [
        "#similarity gensim for validation\n",
        "sim_gensim_validation=[]\n",
        "for i in range(len(sentence1_validation)):\n",
        "  sim_gensim_validation.append(func(sentence1_validation[i], sentence2_validation[i]))"
      ]
    },
    {
      "cell_type": "markdown",
      "metadata": {
        "id": "RPrE1sowSVbS"
      },
      "source": [
        "SIMILARITY USING SPACY"
      ]
    },
    {
      "cell_type": "code",
      "execution_count": 16,
      "metadata": {
        "colab": {
          "base_uri": "https://localhost:8080/"
        },
        "id": "tCuUupXsK71y",
        "outputId": "f4fa0ceb-c834-4fa3-9a47-1eb625210d1d"
      },
      "outputs": [
        {
          "output_type": "stream",
          "name": "stdout",
          "text": [
            "\u001b[38;5;2m✔ Download and installation successful\u001b[0m\n",
            "You can now load the package via spacy.load('en_core_web_lg')\n"
          ]
        }
      ],
      "source": [
        "import spacy.cli\n",
        "spacy.cli.download(\"en_core_web_lg\")\n",
        "nlp = spacy.load(\"en_core_web_lg\")"
      ]
    },
    {
      "cell_type": "code",
      "execution_count": 17,
      "metadata": {
        "id": "ZnfDzwzlL1NO"
      },
      "outputs": [],
      "source": [
        "def similarity_spacy(sentence1, sentence2):\n",
        "  s1=nlp(sentence1) #vectorize tokens\n",
        "  s2=nlp(sentence2) #vectorize tokens\n",
        "  similarity=0.001\n",
        "  if (s1 and s1.vector_norm) and (s2 and s2.vector_norm): #check if s1 and s2 is valid and the vector is valid (Error: Evaluating Doc.similarity based on empty vectors.)\n",
        "    similarity= s1.similarity(s2)\n",
        "  return similarity\n"
      ]
    },
    {
      "cell_type": "code",
      "source": [
        "nlp.pipe_names"
      ],
      "metadata": {
        "colab": {
          "base_uri": "https://localhost:8080/"
        },
        "id": "u6vaNCFJdXFY",
        "outputId": "41d2b5d6-5c50-47f3-df47-3ae20ea17717"
      },
      "execution_count": null,
      "outputs": [
        {
          "output_type": "execute_result",
          "data": {
            "text/plain": [
              "['tok2vec', 'tagger', 'parser', 'attribute_ruler', 'lemmatizer', 'ner']"
            ]
          },
          "metadata": {},
          "execution_count": 32
        }
      ]
    },
    {
      "cell_type": "code",
      "execution_count": null,
      "metadata": {
        "id": "_O2sAG0vL1Ft"
      },
      "outputs": [],
      "source": [
        "#similarity train with spacy\n",
        "sim_spacy=[]\n",
        "for i in range(len(sentence1_train)):\n",
        "  sim_spacy.append(similarity_spacy(sentence1_train[i], sentence2_train[i]))"
      ]
    },
    {
      "cell_type": "code",
      "execution_count": null,
      "metadata": {
        "id": "ITE0w0oDJZ7S"
      },
      "outputs": [],
      "source": [
        "#similarity test with spacy\n",
        "sim_spacy_test=[] \n",
        "for i in range(len(sentence1_test)):\n",
        "  sim_spacy_test.append(similarity_spacy(sentence1_test[i], sentence2_test[i]))"
      ]
    },
    {
      "cell_type": "code",
      "execution_count": null,
      "metadata": {
        "id": "xk5JIddjvvQi"
      },
      "outputs": [],
      "source": [
        "#similarity validation with spacy\n",
        "sim_spacy_validation=[]\n",
        "for i in range(len(sentence1_validation)):\n",
        "  sim_spacy_validation.append(similarity_spacy(sentence1_validation[i], sentence2_validation[i]))"
      ]
    },
    {
      "cell_type": "markdown",
      "metadata": {
        "id": "JoXVmfgFR81p"
      },
      "source": [
        "SIMILARITY USING WORDNET"
      ]
    },
    {
      "cell_type": "code",
      "execution_count": 18,
      "metadata": {
        "id": "-YMQPloud3a0"
      },
      "outputs": [],
      "source": [
        "def penn_to_wn(tag):\n",
        "    \"\"\" Convert between a Penn Treebank tag to a simplified Wordnet tag \"\"\"\n",
        "    if tag.startswith('N'):\n",
        "        return 'n'\n",
        " \n",
        "    if tag.startswith('V'):\n",
        "        return 'v'\n",
        " \n",
        "    if tag.startswith('J'):\n",
        "        return 'a'\n",
        " \n",
        "    if tag.startswith('R'):\n",
        "        return 'r'\n",
        " \n",
        "    return None\n",
        " \n",
        "def tagged_to_synset(word, tag):\n",
        "    wn_tag = penn_to_wn(tag)\n",
        "    if wn_tag is None:\n",
        "        return None\n",
        " \n",
        "    try:\n",
        "        return wn.synsets(word, wn_tag)[0]\n",
        "    except:\n",
        "        return None\n",
        " \n",
        "def sentence_similarity(sentence1, sentence2):\n",
        "    \"\"\" compute the sentence similarity using Wordnet \"\"\"\n",
        "    # Tokenize and tag\n",
        "    sentence1 = pos_tag(tokenize(sentence1))\n",
        "    sentence2 = pos_tag(tokenize(sentence2))\n",
        " \n",
        "    # Get the synsets for the tagged words\n",
        "    synsets1 = [tagged_to_synset(*tagged_word) for tagged_word in sentence1]\n",
        "    synsets2 = [tagged_to_synset(*tagged_word) for tagged_word in sentence2]\n",
        " \n",
        "    # Filter out the Nones\n",
        "    synsets1 = [ss for ss in synsets1 if ss]\n",
        "    synsets2 = [ss for ss in synsets2 if ss]\n",
        "    score, count = 0.0, 0\n",
        "    # For each word in the first sentence\n",
        "    for synset in synsets1:\n",
        "      try:\n",
        "        # Get the similarity value of the most similar word in the other sentence\n",
        "        best_score = max([synset.wup_similarity(ss) for ss in synsets2])\n",
        "      except:\n",
        "        best_score=0\n",
        "        # Check that the similarity could have been computed\n",
        "      if best_score is not None:\n",
        "            score += best_score\n",
        "            count += 1\n",
        "    # Average the values\n",
        "    if count == 0:\n",
        "      return 0.001\n",
        "    score /= count\n",
        "    return score"
      ]
    },
    {
      "cell_type": "code",
      "execution_count": 19,
      "metadata": {
        "id": "h7G9VzR4d3YO"
      },
      "outputs": [],
      "source": [
        "def symmetric_sentence_similarity(sentence1, sentence2):\n",
        "    \"\"\" compute the symmetric sentence similarity using Wordnet \"\"\"\n",
        "    return (sentence_similarity(sentence1, sentence2) + sentence_similarity(sentence2, sentence1)) / 2 "
      ]
    },
    {
      "cell_type": "code",
      "execution_count": null,
      "metadata": {
        "id": "b8PgTkjNd3VD"
      },
      "outputs": [],
      "source": [
        "#compute similarity with wordnet for train\n",
        "similarity_sentences=[]\n",
        "for i in range(len(sentence1_train)):\n",
        "  similarity_sentences.append(symmetric_sentence_similarity(sentence1_train[i], sentence2_train[i]))"
      ]
    },
    {
      "cell_type": "code",
      "execution_count": null,
      "metadata": {
        "id": "yL6aH3YpVkyA"
      },
      "outputs": [],
      "source": [
        "#compute similarity with wordnet for test set\n",
        "similarity_sentences_test=[]\n",
        "for i in range(len(sentence1_test)):\n",
        "  similarity_sentences_test.append(symmetric_sentence_similarity(sentence1_test[i], sentence2_test[i]))"
      ]
    },
    {
      "cell_type": "code",
      "execution_count": null,
      "metadata": {
        "id": "TIHHbjvcwoXE"
      },
      "outputs": [],
      "source": [
        "#compute similarity with wordnet for validation set\n",
        "similarity_sentences_validation=[]\n",
        "for i in range(len(sentence1_validation)):\n",
        "  similarity_sentences_validation.append(symmetric_sentence_similarity(sentence1_validation[i], sentence2_validation[i]))"
      ]
    },
    {
      "cell_type": "markdown",
      "metadata": {
        "id": "rpTHidVxgyAq"
      },
      "source": [
        "LEVENSHTEIN DISTANCE"
      ]
    },
    {
      "cell_type": "code",
      "execution_count": 20,
      "metadata": {
        "id": "8PVwswNi9XzU",
        "colab": {
          "base_uri": "https://localhost:8080/"
        },
        "outputId": "017cb06c-b4d5-4423-98e6-27fbe70e8ade"
      },
      "outputs": [
        {
          "output_type": "stream",
          "name": "stdout",
          "text": [
            "Looking in indexes: https://pypi.org/simple, https://us-python.pkg.dev/colab-wheels/public/simple/\n",
            "Collecting python-Levenshtein\n",
            "  Downloading python-Levenshtein-0.12.2.tar.gz (50 kB)\n",
            "\u001b[K     |████████████████████████████████| 50 kB 4.4 MB/s \n",
            "\u001b[?25hRequirement already satisfied: setuptools in /usr/local/lib/python3.7/dist-packages (from python-Levenshtein) (57.4.0)\n",
            "Building wheels for collected packages: python-Levenshtein\n",
            "  Building wheel for python-Levenshtein (setup.py) ... \u001b[?25l\u001b[?25hdone\n",
            "  Created wheel for python-Levenshtein: filename=python_Levenshtein-0.12.2-cp37-cp37m-linux_x86_64.whl size=149865 sha256=bfc6351d5db10aae4cd6fb6b6ce064b60cc2362415dd69d9434bbe7771f20b04\n",
            "  Stored in directory: /root/.cache/pip/wheels/05/5f/ca/7c4367734892581bb5ff896f15027a932c551080b2abd3e00d\n",
            "Successfully built python-Levenshtein\n",
            "Installing collected packages: python-Levenshtein\n",
            "Successfully installed python-Levenshtein-0.12.2\n"
          ]
        }
      ],
      "source": [
        "!pip install python-Levenshtein"
      ]
    },
    {
      "cell_type": "code",
      "execution_count": 21,
      "metadata": {
        "id": "fYyJSvHN8HX0"
      },
      "outputs": [],
      "source": [
        "from Levenshtein import distance as lev"
      ]
    },
    {
      "cell_type": "code",
      "execution_count": 22,
      "metadata": {
        "id": "ESmaynvu9JK6"
      },
      "outputs": [],
      "source": [
        "def lev_distance(sentence1, sentence2):\n",
        "  pairs=[]\n",
        "  tokens1= tokenize(sentence1)\n",
        "  tokens2= tokenize(sentence2)\n",
        "  pairs=[[(tokens1[i], tokens2[j]) for j in range(len(tokens2))] for i in range(len(tokens1))]\n",
        "  \n",
        "  list_diff=[]\n",
        "  sum_diff=0\n",
        "  n, min, count= 0, 0, 0\n",
        "  list_diff=[]\n",
        "  for i in range(len(pairs)):\n",
        "      for t1,t2 in pairs[i]:\n",
        "        try:\n",
        "          list_diff.append(lev(t1,t2))\n",
        "          \n",
        "          count +=1\n",
        "          \n",
        "          if count == len(tokens2):\n",
        "            count= 0\n",
        "            min= list_diff[0]\n",
        "            for j in range(len(list_diff)):\n",
        "              if min > list_diff[j]:\n",
        "                min=list_diff[j]\n",
        "            list_diff.clear()\n",
        "            sum_diff += min\n",
        "            n+= 1\n",
        "        except:\n",
        "            pass\n",
        "  if n == 0:\n",
        "    return 0.001\n",
        "  return sum_diff/n"
      ]
    },
    {
      "cell_type": "code",
      "execution_count": null,
      "metadata": {
        "id": "6Rpi2m9iBPgS",
        "colab": {
          "base_uri": "https://localhost:8080/",
          "height": 53
        },
        "outputId": "d2357884-c7b7-4ec8-9d03-c9df048df916"
      },
      "outputs": [
        {
          "output_type": "execute_result",
          "data": {
            "text/plain": [
              "'lev_distance_test=[]\\nfor i in range(len(sentence1_test)):\\n  lev_distance_test.append(lev_distance(sentence1_test[i], sentence2_test[i]))\\n\\nlev_distance_val=[]\\nfor i in range(len(sentence1_validation)):\\n  lev_distance_val.append(lev_distance(sentence1_validation[i], sentence2_validation[i]))\\n'"
            ],
            "application/vnd.google.colaboratory.intrinsic+json": {
              "type": "string"
            }
          },
          "metadata": {},
          "execution_count": 35
        }
      ],
      "source": [
        "#leveshtein distance\n",
        "lev_distance_train=[]\n",
        "for i in range(len(sentence1_train)):\n",
        "  lev_distance_train.append(lev_distance(sentence1_train[i], sentence2_train[i]))\n",
        "\n",
        "'''lev_distance_test=[]\n",
        "for i in range(len(sentence1_test)):\n",
        "  lev_distance_test.append(lev_distance(sentence1_test[i], sentence2_test[i]))\n",
        "\n",
        "lev_distance_val=[]\n",
        "for i in range(len(sentence1_validation)):\n",
        "  lev_distance_val.append(lev_distance(sentence1_validation[i], sentence2_validation[i]))\n",
        "'''"
      ]
    },
    {
      "cell_type": "code",
      "execution_count": null,
      "metadata": {
        "id": "GoG-VSOhY8MZ",
        "colab": {
          "base_uri": "https://localhost:8080/",
          "height": 206
        },
        "outputId": "56d2d608-814d-41e5-aa32-ea32ae24881b"
      },
      "outputs": [
        {
          "output_type": "execute_result",
          "data": {
            "text/plain": [
              "   sim_wordnet  similarity_spacy  similarity_gensim  lev_distance\n",
              "0     0.827691          0.839532           0.592448      2.181818\n",
              "1     0.611503          0.844615           0.580936      2.000000\n",
              "2     0.632792          0.776112           0.484423      3.428571\n",
              "3     0.740458          0.823708           0.438145      3.000000\n",
              "4     0.358974          0.761575           0.307697      3.000000"
            ],
            "text/html": [
              "\n",
              "  <div id=\"df-3465d45a-88d5-47e5-b5d2-02835c6e945a\">\n",
              "    <div class=\"colab-df-container\">\n",
              "      <div>\n",
              "<style scoped>\n",
              "    .dataframe tbody tr th:only-of-type {\n",
              "        vertical-align: middle;\n",
              "    }\n",
              "\n",
              "    .dataframe tbody tr th {\n",
              "        vertical-align: top;\n",
              "    }\n",
              "\n",
              "    .dataframe thead th {\n",
              "        text-align: right;\n",
              "    }\n",
              "</style>\n",
              "<table border=\"1\" class=\"dataframe\">\n",
              "  <thead>\n",
              "    <tr style=\"text-align: right;\">\n",
              "      <th></th>\n",
              "      <th>sim_wordnet</th>\n",
              "      <th>similarity_spacy</th>\n",
              "      <th>similarity_gensim</th>\n",
              "      <th>lev_distance</th>\n",
              "    </tr>\n",
              "  </thead>\n",
              "  <tbody>\n",
              "    <tr>\n",
              "      <th>0</th>\n",
              "      <td>0.827691</td>\n",
              "      <td>0.839532</td>\n",
              "      <td>0.592448</td>\n",
              "      <td>2.181818</td>\n",
              "    </tr>\n",
              "    <tr>\n",
              "      <th>1</th>\n",
              "      <td>0.611503</td>\n",
              "      <td>0.844615</td>\n",
              "      <td>0.580936</td>\n",
              "      <td>2.000000</td>\n",
              "    </tr>\n",
              "    <tr>\n",
              "      <th>2</th>\n",
              "      <td>0.632792</td>\n",
              "      <td>0.776112</td>\n",
              "      <td>0.484423</td>\n",
              "      <td>3.428571</td>\n",
              "    </tr>\n",
              "    <tr>\n",
              "      <th>3</th>\n",
              "      <td>0.740458</td>\n",
              "      <td>0.823708</td>\n",
              "      <td>0.438145</td>\n",
              "      <td>3.000000</td>\n",
              "    </tr>\n",
              "    <tr>\n",
              "      <th>4</th>\n",
              "      <td>0.358974</td>\n",
              "      <td>0.761575</td>\n",
              "      <td>0.307697</td>\n",
              "      <td>3.000000</td>\n",
              "    </tr>\n",
              "  </tbody>\n",
              "</table>\n",
              "</div>\n",
              "      <button class=\"colab-df-convert\" onclick=\"convertToInteractive('df-3465d45a-88d5-47e5-b5d2-02835c6e945a')\"\n",
              "              title=\"Convert this dataframe to an interactive table.\"\n",
              "              style=\"display:none;\">\n",
              "        \n",
              "  <svg xmlns=\"http://www.w3.org/2000/svg\" height=\"24px\"viewBox=\"0 0 24 24\"\n",
              "       width=\"24px\">\n",
              "    <path d=\"M0 0h24v24H0V0z\" fill=\"none\"/>\n",
              "    <path d=\"M18.56 5.44l.94 2.06.94-2.06 2.06-.94-2.06-.94-.94-2.06-.94 2.06-2.06.94zm-11 1L8.5 8.5l.94-2.06 2.06-.94-2.06-.94L8.5 2.5l-.94 2.06-2.06.94zm10 10l.94 2.06.94-2.06 2.06-.94-2.06-.94-.94-2.06-.94 2.06-2.06.94z\"/><path d=\"M17.41 7.96l-1.37-1.37c-.4-.4-.92-.59-1.43-.59-.52 0-1.04.2-1.43.59L10.3 9.45l-7.72 7.72c-.78.78-.78 2.05 0 2.83L4 21.41c.39.39.9.59 1.41.59.51 0 1.02-.2 1.41-.59l7.78-7.78 2.81-2.81c.8-.78.8-2.07 0-2.86zM5.41 20L4 18.59l7.72-7.72 1.47 1.35L5.41 20z\"/>\n",
              "  </svg>\n",
              "      </button>\n",
              "      \n",
              "  <style>\n",
              "    .colab-df-container {\n",
              "      display:flex;\n",
              "      flex-wrap:wrap;\n",
              "      gap: 12px;\n",
              "    }\n",
              "\n",
              "    .colab-df-convert {\n",
              "      background-color: #E8F0FE;\n",
              "      border: none;\n",
              "      border-radius: 50%;\n",
              "      cursor: pointer;\n",
              "      display: none;\n",
              "      fill: #1967D2;\n",
              "      height: 32px;\n",
              "      padding: 0 0 0 0;\n",
              "      width: 32px;\n",
              "    }\n",
              "\n",
              "    .colab-df-convert:hover {\n",
              "      background-color: #E2EBFA;\n",
              "      box-shadow: 0px 1px 2px rgba(60, 64, 67, 0.3), 0px 1px 3px 1px rgba(60, 64, 67, 0.15);\n",
              "      fill: #174EA6;\n",
              "    }\n",
              "\n",
              "    [theme=dark] .colab-df-convert {\n",
              "      background-color: #3B4455;\n",
              "      fill: #D2E3FC;\n",
              "    }\n",
              "\n",
              "    [theme=dark] .colab-df-convert:hover {\n",
              "      background-color: #434B5C;\n",
              "      box-shadow: 0px 1px 3px 1px rgba(0, 0, 0, 0.15);\n",
              "      filter: drop-shadow(0px 1px 2px rgba(0, 0, 0, 0.3));\n",
              "      fill: #FFFFFF;\n",
              "    }\n",
              "  </style>\n",
              "\n",
              "      <script>\n",
              "        const buttonEl =\n",
              "          document.querySelector('#df-3465d45a-88d5-47e5-b5d2-02835c6e945a button.colab-df-convert');\n",
              "        buttonEl.style.display =\n",
              "          google.colab.kernel.accessAllowed ? 'block' : 'none';\n",
              "\n",
              "        async function convertToInteractive(key) {\n",
              "          const element = document.querySelector('#df-3465d45a-88d5-47e5-b5d2-02835c6e945a');\n",
              "          const dataTable =\n",
              "            await google.colab.kernel.invokeFunction('convertToInteractive',\n",
              "                                                     [key], {});\n",
              "          if (!dataTable) return;\n",
              "\n",
              "          const docLinkHtml = 'Like what you see? Visit the ' +\n",
              "            '<a target=\"_blank\" href=https://colab.research.google.com/notebooks/data_table.ipynb>data table notebook</a>'\n",
              "            + ' to learn more about interactive tables.';\n",
              "          element.innerHTML = '';\n",
              "          dataTable['output_type'] = 'display_data';\n",
              "          await google.colab.output.renderOutput(dataTable, element);\n",
              "          const docLink = document.createElement('div');\n",
              "          docLink.innerHTML = docLinkHtml;\n",
              "          element.appendChild(docLink);\n",
              "        }\n",
              "      </script>\n",
              "    </div>\n",
              "  </div>\n",
              "  "
            ]
          },
          "metadata": {},
          "execution_count": 188
        }
      ],
      "source": [
        "#df_tr = pd.DataFrame(list_cosine_bow,columns=['cosine_sim'])\n",
        "df_tr= pd.DataFrame(similarity_sentences,columns=['sim_wordnet'])\n",
        "#df_tr['cosine_occ']= cosine_values\n",
        "#df_tr['similarity_wordnet']=similarity_sentences\n",
        "df_tr['similarity_spacy']= sim_spacy\n",
        "df_tr['similarity_gensim']= sim_gensim_train\n",
        "df_tr['lev_distance']= lev_distance_train\n",
        "df_tr.head(5)"
      ]
    },
    {
      "cell_type": "code",
      "source": [
        "from sklearn.preprocessing import StandardScaler"
      ],
      "metadata": {
        "id": "4Jshvc2C60eg"
      },
      "execution_count": 23,
      "outputs": []
    },
    {
      "cell_type": "code",
      "source": [
        "scale= StandardScaler()"
      ],
      "metadata": {
        "id": "ZfdafwC161lW"
      },
      "execution_count": 24,
      "outputs": []
    },
    {
      "cell_type": "markdown",
      "metadata": {
        "id": "wA2vVrQ3VfI-"
      },
      "source": [
        "NEURAL NETOWRK WITH SIMILARITY METRICS EXTRACTED"
      ]
    },
    {
      "cell_type": "code",
      "execution_count": null,
      "metadata": {
        "id": "yRxrFFZttLJi"
      },
      "outputs": [],
      "source": [
        "X_train= df_tr[df_tr.columns[:]].values #valori del train"
      ]
    },
    {
      "cell_type": "code",
      "source": [
        "scaled_data = scale.fit_transform(X_train)"
      ],
      "metadata": {
        "id": "d7m0luMH69hB"
      },
      "execution_count": null,
      "outputs": []
    },
    {
      "cell_type": "code",
      "execution_count": null,
      "metadata": {
        "id": "b7ZGtKq2WyYo"
      },
      "outputs": [],
      "source": [
        "#X_test= df_te[df_te.columns[:]].values #valori x test"
      ]
    },
    {
      "cell_type": "code",
      "execution_count": null,
      "metadata": {
        "id": "wwhrMMOZxW6x"
      },
      "outputs": [],
      "source": [
        "#X_validation= df_val[df_val.columns[:]].values #valori x validation"
      ]
    },
    {
      "cell_type": "code",
      "execution_count": 44,
      "metadata": {
        "id": "n3OehYsoIN0m"
      },
      "outputs": [],
      "source": [
        "from sklearn.model_selection import train_test_split"
      ]
    },
    {
      "cell_type": "code",
      "execution_count": null,
      "metadata": {
        "id": "SxrdLV0bcm3H"
      },
      "outputs": [],
      "source": [
        "X_train, X_temp, y_train, y_temp= train_test_split(X_train, label_train, test_size=0.3, random_state=42)\n",
        "X_valid, X_test, y_valid, y_test= train_test_split(X_temp, y_temp, test_size=0.4, random_state=42)"
      ]
    },
    {
      "cell_type": "code",
      "execution_count": null,
      "metadata": {
        "id": "QTVuJerFUD0o"
      },
      "outputs": [],
      "source": [
        "y_train= np.asarray(y_train) #valori label y per il train\n",
        "#x_test= np.asarray(X_test) #valori x per il test\n",
        "y_test=np.asarray(y_test) #valori y per il test\n",
        "x_valid= np.asarray(X_valid) #valori x per validation\n",
        "y_valid=np.asarray(y_valid) #valori y per validation"
      ]
    },
    {
      "cell_type": "code",
      "execution_count": 25,
      "metadata": {
        "id": "ec-9Z8jDBAje"
      },
      "outputs": [],
      "source": [
        "import tensorflow as tf\n"
      ]
    },
    {
      "cell_type": "code",
      "execution_count": null,
      "metadata": {
        "id": "jxZC3BtcBAfX"
      },
      "outputs": [],
      "source": [
        "model= tf.keras.Sequential([\n",
        "                            tf.keras.layers.Dense(16, activation='softmax'), #layer di una dense NN, denso indica che un neurone prende come gli input da tutti i neuroni, con 16 neuroni\n",
        "                            tf.keras.layers.Dense(16, activation='softmax'),\n",
        "                            tf.keras.layers.Dense(1, activation='sigmoid')\n",
        "])"
      ]
    },
    {
      "cell_type": "code",
      "execution_count": null,
      "metadata": {
        "id": "zEEaAJPDBAcz"
      },
      "outputs": [],
      "source": [
        "model.compile(optimizer=tf.keras.optimizers.Adam(learning_rate=0.001),\n",
        "              loss=tf.keras.losses.BinaryCrossentropy(),\n",
        "              metrics= ['accuracy']\n",
        "              )"
      ]
    },
    {
      "cell_type": "code",
      "execution_count": null,
      "metadata": {
        "colab": {
          "base_uri": "https://localhost:8080/"
        },
        "id": "SuOei-5FBAaU",
        "outputId": "1b695a1d-85df-467a-f8d9-5b7df70324d7"
      },
      "outputs": [
        {
          "output_type": "stream",
          "name": "stdout",
          "text": [
            "8020/8020 [==============================] - 12s 1ms/step - loss: 0.6963 - accuracy: 0.4995\n"
          ]
        },
        {
          "output_type": "execute_result",
          "data": {
            "text/plain": [
              "[0.6963495016098022, 0.499549925327301]"
            ]
          },
          "metadata": {},
          "execution_count": 246
        }
      ],
      "source": [
        "model.evaluate(X_train, y_train)"
      ]
    },
    {
      "cell_type": "code",
      "execution_count": null,
      "metadata": {
        "colab": {
          "base_uri": "https://localhost:8080/"
        },
        "id": "2ImeulHalR_n",
        "outputId": "46cba883-d4c1-4968-a1cf-c4d81f7acf36"
      },
      "outputs": [
        {
          "output_type": "stream",
          "name": "stdout",
          "text": [
            "2063/2063 [==============================] - 3s 1ms/step - loss: 0.6963 - accuracy: 0.4997\n"
          ]
        },
        {
          "output_type": "execute_result",
          "data": {
            "text/plain": [
              "[0.696323037147522, 0.4996514618396759]"
            ]
          },
          "metadata": {},
          "execution_count": 247
        }
      ],
      "source": [
        "model.evaluate(X_valid, y_valid)"
      ]
    },
    {
      "cell_type": "code",
      "execution_count": null,
      "metadata": {
        "colab": {
          "base_uri": "https://localhost:8080/"
        },
        "id": "mL6PiiWYBAXu",
        "outputId": "5fbf274e-3065-4746-b689-00704317aa32"
      },
      "outputs": [
        {
          "output_type": "stream",
          "name": "stdout",
          "text": [
            "Epoch 1/70\n",
            "1167/1167 [==============================] - 3s 3ms/step - loss: 0.6793 - accuracy: 0.5780 - val_loss: 0.6634 - val_accuracy: 0.6067\n",
            "Epoch 2/70\n",
            "1167/1167 [==============================] - 3s 2ms/step - loss: 0.6629 - accuracy: 0.6079 - val_loss: 0.6575 - val_accuracy: 0.6169\n",
            "Epoch 3/70\n",
            "1167/1167 [==============================] - 3s 2ms/step - loss: 0.6557 - accuracy: 0.6201 - val_loss: 0.6482 - val_accuracy: 0.6311\n",
            "Epoch 4/70\n",
            "1167/1167 [==============================] - 3s 2ms/step - loss: 0.6459 - accuracy: 0.6329 - val_loss: 0.6409 - val_accuracy: 0.6377\n",
            "Epoch 5/70\n",
            "1167/1167 [==============================] - 3s 2ms/step - loss: 0.6409 - accuracy: 0.6355 - val_loss: 0.6386 - val_accuracy: 0.6371\n",
            "Epoch 6/70\n",
            "1167/1167 [==============================] - 3s 2ms/step - loss: 0.6391 - accuracy: 0.6365 - val_loss: 0.6372 - val_accuracy: 0.6393\n",
            "Epoch 7/70\n",
            "1167/1167 [==============================] - 3s 3ms/step - loss: 0.6382 - accuracy: 0.6365 - val_loss: 0.6371 - val_accuracy: 0.6393\n",
            "Epoch 8/70\n",
            "1167/1167 [==============================] - 3s 2ms/step - loss: 0.6375 - accuracy: 0.6373 - val_loss: 0.6362 - val_accuracy: 0.6408\n",
            "Epoch 9/70\n",
            "1167/1167 [==============================] - 3s 2ms/step - loss: 0.6371 - accuracy: 0.6380 - val_loss: 0.6361 - val_accuracy: 0.6408\n",
            "Epoch 10/70\n",
            "1167/1167 [==============================] - 3s 2ms/step - loss: 0.6367 - accuracy: 0.6384 - val_loss: 0.6354 - val_accuracy: 0.6410\n",
            "Epoch 11/70\n",
            "1167/1167 [==============================] - 3s 2ms/step - loss: 0.6364 - accuracy: 0.6386 - val_loss: 0.6351 - val_accuracy: 0.6412\n",
            "Epoch 12/70\n",
            "1167/1167 [==============================] - 3s 2ms/step - loss: 0.6361 - accuracy: 0.6392 - val_loss: 0.6349 - val_accuracy: 0.6418\n",
            "Epoch 13/70\n",
            "1167/1167 [==============================] - 3s 2ms/step - loss: 0.6359 - accuracy: 0.6395 - val_loss: 0.6351 - val_accuracy: 0.6404\n",
            "Epoch 14/70\n",
            "1167/1167 [==============================] - 3s 2ms/step - loss: 0.6356 - accuracy: 0.6397 - val_loss: 0.6345 - val_accuracy: 0.6426\n",
            "Epoch 15/70\n",
            "1167/1167 [==============================] - 3s 2ms/step - loss: 0.6355 - accuracy: 0.6399 - val_loss: 0.6346 - val_accuracy: 0.6417\n",
            "Epoch 16/70\n",
            "1167/1167 [==============================] - 3s 2ms/step - loss: 0.6353 - accuracy: 0.6401 - val_loss: 0.6342 - val_accuracy: 0.6421\n",
            "Epoch 17/70\n",
            "1167/1167 [==============================] - 4s 3ms/step - loss: 0.6351 - accuracy: 0.6404 - val_loss: 0.6342 - val_accuracy: 0.6422\n",
            "Epoch 18/70\n",
            "1167/1167 [==============================] - 4s 3ms/step - loss: 0.6348 - accuracy: 0.6406 - val_loss: 0.6338 - val_accuracy: 0.6427\n",
            "Epoch 19/70\n",
            "1167/1167 [==============================] - 3s 2ms/step - loss: 0.6346 - accuracy: 0.6412 - val_loss: 0.6336 - val_accuracy: 0.6432\n",
            "Epoch 20/70\n",
            "1167/1167 [==============================] - 3s 2ms/step - loss: 0.6343 - accuracy: 0.6412 - val_loss: 0.6331 - val_accuracy: 0.6427\n",
            "Epoch 21/70\n",
            "1167/1167 [==============================] - 3s 2ms/step - loss: 0.6339 - accuracy: 0.6415 - val_loss: 0.6330 - val_accuracy: 0.6438\n",
            "Epoch 22/70\n",
            "1167/1167 [==============================] - 3s 2ms/step - loss: 0.6336 - accuracy: 0.6419 - val_loss: 0.6327 - val_accuracy: 0.6433\n",
            "Epoch 23/70\n",
            "1167/1167 [==============================] - 3s 2ms/step - loss: 0.6332 - accuracy: 0.6420 - val_loss: 0.6322 - val_accuracy: 0.6436\n",
            "Epoch 24/70\n",
            "1167/1167 [==============================] - 3s 2ms/step - loss: 0.6329 - accuracy: 0.6421 - val_loss: 0.6319 - val_accuracy: 0.6439\n",
            "Epoch 25/70\n",
            "1167/1167 [==============================] - 3s 2ms/step - loss: 0.6327 - accuracy: 0.6425 - val_loss: 0.6319 - val_accuracy: 0.6430\n",
            "Epoch 26/70\n",
            "1167/1167 [==============================] - 3s 2ms/step - loss: 0.6325 - accuracy: 0.6425 - val_loss: 0.6315 - val_accuracy: 0.6437\n",
            "Epoch 27/70\n",
            "1167/1167 [==============================] - 3s 2ms/step - loss: 0.6322 - accuracy: 0.6425 - val_loss: 0.6313 - val_accuracy: 0.6443\n",
            "Epoch 28/70\n",
            "1167/1167 [==============================] - 3s 2ms/step - loss: 0.6320 - accuracy: 0.6432 - val_loss: 0.6313 - val_accuracy: 0.6442\n",
            "Epoch 29/70\n",
            "1167/1167 [==============================] - 3s 2ms/step - loss: 0.6318 - accuracy: 0.6432 - val_loss: 0.6310 - val_accuracy: 0.6442\n",
            "Epoch 30/70\n",
            "1167/1167 [==============================] - 3s 2ms/step - loss: 0.6317 - accuracy: 0.6429 - val_loss: 0.6310 - val_accuracy: 0.6447\n",
            "Epoch 31/70\n",
            "1167/1167 [==============================] - 3s 2ms/step - loss: 0.6316 - accuracy: 0.6434 - val_loss: 0.6308 - val_accuracy: 0.6444\n",
            "Epoch 32/70\n",
            "1167/1167 [==============================] - 3s 2ms/step - loss: 0.6314 - accuracy: 0.6435 - val_loss: 0.6306 - val_accuracy: 0.6438\n",
            "Epoch 33/70\n",
            "1167/1167 [==============================] - 3s 2ms/step - loss: 0.6313 - accuracy: 0.6435 - val_loss: 0.6305 - val_accuracy: 0.6436\n",
            "Epoch 34/70\n",
            "1167/1167 [==============================] - 3s 2ms/step - loss: 0.6311 - accuracy: 0.6439 - val_loss: 0.6304 - val_accuracy: 0.6446\n",
            "Epoch 35/70\n",
            "1167/1167 [==============================] - 3s 2ms/step - loss: 0.6310 - accuracy: 0.6432 - val_loss: 0.6302 - val_accuracy: 0.6436\n",
            "Epoch 36/70\n",
            "1167/1167 [==============================] - 3s 2ms/step - loss: 0.6308 - accuracy: 0.6434 - val_loss: 0.6305 - val_accuracy: 0.6427\n",
            "Epoch 37/70\n",
            "1167/1167 [==============================] - 3s 2ms/step - loss: 0.6308 - accuracy: 0.6436 - val_loss: 0.6299 - val_accuracy: 0.6451\n",
            "Epoch 38/70\n",
            "1167/1167 [==============================] - 3s 2ms/step - loss: 0.6306 - accuracy: 0.6434 - val_loss: 0.6304 - val_accuracy: 0.6453\n",
            "Epoch 39/70\n",
            "1167/1167 [==============================] - 3s 2ms/step - loss: 0.6305 - accuracy: 0.6436 - val_loss: 0.6296 - val_accuracy: 0.6455\n",
            "Epoch 40/70\n",
            "1167/1167 [==============================] - 3s 2ms/step - loss: 0.6303 - accuracy: 0.6438 - val_loss: 0.6294 - val_accuracy: 0.6447\n",
            "Epoch 41/70\n",
            "1167/1167 [==============================] - 3s 2ms/step - loss: 0.6302 - accuracy: 0.6438 - val_loss: 0.6292 - val_accuracy: 0.6446\n",
            "Epoch 42/70\n",
            "1167/1167 [==============================] - 3s 2ms/step - loss: 0.6300 - accuracy: 0.6438 - val_loss: 0.6296 - val_accuracy: 0.6429\n",
            "Epoch 43/70\n",
            "1167/1167 [==============================] - 3s 2ms/step - loss: 0.6298 - accuracy: 0.6435 - val_loss: 0.6287 - val_accuracy: 0.6450\n",
            "Epoch 44/70\n",
            "1167/1167 [==============================] - 3s 2ms/step - loss: 0.6297 - accuracy: 0.6434 - val_loss: 0.6285 - val_accuracy: 0.6455\n",
            "Epoch 45/70\n",
            "1167/1167 [==============================] - 3s 2ms/step - loss: 0.6295 - accuracy: 0.6433 - val_loss: 0.6283 - val_accuracy: 0.6451\n",
            "Epoch 46/70\n",
            "1167/1167 [==============================] - 3s 2ms/step - loss: 0.6292 - accuracy: 0.6434 - val_loss: 0.6282 - val_accuracy: 0.6452\n",
            "Epoch 47/70\n",
            "1167/1167 [==============================] - 3s 2ms/step - loss: 0.6291 - accuracy: 0.6434 - val_loss: 0.6278 - val_accuracy: 0.6456\n",
            "Epoch 48/70\n",
            "1167/1167 [==============================] - 3s 2ms/step - loss: 0.6289 - accuracy: 0.6435 - val_loss: 0.6279 - val_accuracy: 0.6453\n",
            "Epoch 49/70\n",
            "1167/1167 [==============================] - 3s 2ms/step - loss: 0.6287 - accuracy: 0.6435 - val_loss: 0.6274 - val_accuracy: 0.6446\n",
            "Epoch 50/70\n",
            "1167/1167 [==============================] - 2s 2ms/step - loss: 0.6286 - accuracy: 0.6433 - val_loss: 0.6276 - val_accuracy: 0.6455\n",
            "Epoch 51/70\n",
            "1167/1167 [==============================] - 3s 2ms/step - loss: 0.6285 - accuracy: 0.6439 - val_loss: 0.6272 - val_accuracy: 0.6449\n",
            "Epoch 52/70\n",
            "1167/1167 [==============================] - 3s 2ms/step - loss: 0.6284 - accuracy: 0.6433 - val_loss: 0.6274 - val_accuracy: 0.6454\n",
            "Epoch 53/70\n",
            "1167/1167 [==============================] - 3s 2ms/step - loss: 0.6283 - accuracy: 0.6437 - val_loss: 0.6272 - val_accuracy: 0.6448\n",
            "Epoch 54/70\n",
            "1167/1167 [==============================] - 3s 2ms/step - loss: 0.6283 - accuracy: 0.6434 - val_loss: 0.6275 - val_accuracy: 0.6437\n",
            "Epoch 55/70\n",
            "1167/1167 [==============================] - 3s 2ms/step - loss: 0.6282 - accuracy: 0.6436 - val_loss: 0.6289 - val_accuracy: 0.6441\n",
            "Epoch 56/70\n",
            "1167/1167 [==============================] - 3s 2ms/step - loss: 0.6282 - accuracy: 0.6435 - val_loss: 0.6270 - val_accuracy: 0.6450\n",
            "Epoch 57/70\n",
            "1167/1167 [==============================] - 3s 2ms/step - loss: 0.6282 - accuracy: 0.6436 - val_loss: 0.6270 - val_accuracy: 0.6451\n",
            "Epoch 58/70\n",
            "1167/1167 [==============================] - 3s 2ms/step - loss: 0.6281 - accuracy: 0.6433 - val_loss: 0.6270 - val_accuracy: 0.6444\n",
            "Epoch 59/70\n",
            "1167/1167 [==============================] - 3s 2ms/step - loss: 0.6281 - accuracy: 0.6436 - val_loss: 0.6269 - val_accuracy: 0.6443\n",
            "Epoch 60/70\n",
            "1167/1167 [==============================] - 3s 2ms/step - loss: 0.6281 - accuracy: 0.6434 - val_loss: 0.6270 - val_accuracy: 0.6451\n",
            "Epoch 61/70\n",
            "1167/1167 [==============================] - 3s 2ms/step - loss: 0.6281 - accuracy: 0.6434 - val_loss: 0.6275 - val_accuracy: 0.6446\n",
            "Epoch 62/70\n",
            "1167/1167 [==============================] - 3s 2ms/step - loss: 0.6280 - accuracy: 0.6435 - val_loss: 0.6268 - val_accuracy: 0.6446\n",
            "Epoch 63/70\n",
            "1167/1167 [==============================] - 3s 2ms/step - loss: 0.6280 - accuracy: 0.6434 - val_loss: 0.6269 - val_accuracy: 0.6446\n",
            "Epoch 64/70\n",
            "1167/1167 [==============================] - 3s 2ms/step - loss: 0.6279 - accuracy: 0.6430 - val_loss: 0.6267 - val_accuracy: 0.6445\n",
            "Epoch 65/70\n",
            "1167/1167 [==============================] - 3s 3ms/step - loss: 0.6279 - accuracy: 0.6439 - val_loss: 0.6269 - val_accuracy: 0.6447\n",
            "Epoch 66/70\n",
            "1167/1167 [==============================] - 3s 2ms/step - loss: 0.6280 - accuracy: 0.6432 - val_loss: 0.6268 - val_accuracy: 0.6448\n",
            "Epoch 67/70\n",
            "1167/1167 [==============================] - 3s 2ms/step - loss: 0.6279 - accuracy: 0.6435 - val_loss: 0.6268 - val_accuracy: 0.6453\n",
            "Epoch 68/70\n",
            "1167/1167 [==============================] - 3s 2ms/step - loss: 0.6279 - accuracy: 0.6431 - val_loss: 0.6267 - val_accuracy: 0.6444\n",
            "Epoch 69/70\n",
            "1167/1167 [==============================] - 3s 2ms/step - loss: 0.6279 - accuracy: 0.6433 - val_loss: 0.6268 - val_accuracy: 0.6452\n",
            "Epoch 70/70\n",
            "1167/1167 [==============================] - 3s 2ms/step - loss: 0.6278 - accuracy: 0.6437 - val_loss: 0.6267 - val_accuracy: 0.6442\n"
          ]
        }
      ],
      "source": [
        "history= model.fit(X_train, y_train, batch_size=220, epochs=70, validation_data=(X_valid, y_valid)) #batch_size è il numero di samples che utilizziamo in ciascuna iterazione"
      ]
    },
    {
      "cell_type": "code",
      "execution_count": null,
      "metadata": {
        "colab": {
          "base_uri": "https://localhost:8080/"
        },
        "id": "1U9qFiNMBAS8",
        "outputId": "9bc45018-3256-4e2c-9f6c-daa67f77ddc5"
      },
      "outputs": [
        {
          "output_type": "stream",
          "name": "stdout",
          "text": [
            "1375/1375 [==============================] - 2s 1ms/step - loss: 0.6263 - accuracy: 0.6468\n"
          ]
        },
        {
          "output_type": "execute_result",
          "data": {
            "text/plain": [
              "[0.6262719631195068, 0.6467539668083191]"
            ]
          },
          "metadata": {},
          "execution_count": 249
        }
      ],
      "source": [
        "model.evaluate(X_test, y_test)"
      ]
    },
    {
      "cell_type": "code",
      "execution_count": null,
      "metadata": {
        "colab": {
          "base_uri": "https://localhost:8080/",
          "height": 297
        },
        "id": "ywa3HDOWkv75",
        "outputId": "dc6fe5d1-ed76-4888-b27c-98c8cb54880c"
      },
      "outputs": [
        {
          "output_type": "display_data",
          "data": {
            "text/plain": [
              "<Figure size 864x288 with 2 Axes>"
            ],
            "image/png": "[encoded data removed]"
          },
          "metadata": {
            "needs_background": "light"
          }
        }
      ],
      "source": [
        "#plot accuracy during training/validation\n",
        "fig, ax = plt.subplots(figsize=(12, 4), ncols=2)\n",
        "ax[0].plot(history.history['accuracy'], label='Train accuracy')\n",
        "ax[0].plot(history.history['val_accuracy'], label='Test accuracy')\n",
        "ax[0].set_yscale('log')\n",
        "ax[0].legend()\n",
        "ax[1].plot(history.history['loss'], label='Train loss')\n",
        "ax[1].plot(history.history['val_loss'], label='Test loss')\n",
        "ax[1].legend()\n",
        "plt.tight_layout()\n",
        "plt.show()"
      ]
    },
    {
      "cell_type": "code",
      "execution_count": 26,
      "metadata": {
        "id": "_JV68eIMLCIE"
      },
      "outputs": [],
      "source": [
        "labels=['not entailment', 'entailment']"
      ]
    },
    {
      "cell_type": "code",
      "execution_count": 27,
      "metadata": {
        "id": "mWz8ERp_KelV"
      },
      "outputs": [],
      "source": [
        "def check_similarity(sentence1, sentence2, model_used):\n",
        "   X_train=[[func(sentence1,sentence2),similarity_spacy(sentence1,sentence2),\n",
        "            symmetric_sentence_similarity(sentence1, sentence2),lev_distance(sentence1, sentence2)]]\n",
        "   proba = model_used.predict(X_train)\n",
        "   label = labels[proba[0]]\n",
        "   return label"
      ]
    },
    {
      "cell_type": "markdown",
      "metadata": {
        "id": "mXLGev1jkf6j"
      },
      "source": [
        "SUPPORT VECTOR MACHINE WITH FEATURES EXTRACTED"
      ]
    },
    {
      "cell_type": "code",
      "execution_count": 28,
      "metadata": {
        "id": "tKr_rKl4klyX"
      },
      "outputs": [],
      "source": [
        "# demonstration of calculating metrics for a neural network model using sklearn\n",
        "from sklearn.datasets import make_circles\n",
        "from sklearn.metrics import accuracy_score\n",
        "from sklearn.metrics import precision_score\n",
        "from sklearn.metrics import recall_score\n",
        "from sklearn.metrics import f1_score\n",
        "from sklearn.metrics import cohen_kappa_score\n",
        "from sklearn.metrics import roc_auc_score\n",
        "from sklearn.metrics import confusion_matrix\n",
        "from keras.models import Sequential\n",
        "from keras.layers import Dense"
      ]
    },
    {
      "cell_type": "code",
      "execution_count": 29,
      "metadata": {
        "id": "mJgpsV2wVpKo"
      },
      "outputs": [],
      "source": [
        "from sklearn import svm"
      ]
    },
    {
      "cell_type": "code",
      "execution_count": null,
      "metadata": {
        "id": "Z7B9wWE4klv-"
      },
      "outputs": [],
      "source": [
        "#create a classifier\n",
        "cls = svm.SVC(C= .1, kernel=\"rbf\", gamma= 1)\n",
        "\n",
        "#train the model\n",
        "hist= cls.fit(X_train,y_train)\n",
        "\n",
        "#predict the response\n",
        "pred = cls.predict(X_test)\n",
        "\n",
        "pred_train=cls.predict(X_train)"
      ]
    },
    {
      "cell_type": "code",
      "execution_count": 30,
      "metadata": {
        "id": "wTB89fzCnFtu"
      },
      "outputs": [],
      "source": [
        "from sklearn import metrics as mt"
      ]
    },
    {
      "cell_type": "code",
      "execution_count": null,
      "metadata": {
        "colab": {
          "base_uri": "https://localhost:8080/"
        },
        "id": "OY0ml5olkltd",
        "outputId": "c9d7260f-1f28-47f8-f400-fa041c5566e0"
      },
      "outputs": [
        {
          "output_type": "stream",
          "name": "stdout",
          "text": [
            "accuracy: 0.6420940170940171\n",
            "precision: 0.6574144294453713\n",
            "recall 0.5917986528308756\n",
            "f1-score 0.622883284232713\n",
            "ROC AUC 0.6420391992583079\n",
            "              precision    recall  f1-score   support\n",
            "\n",
            "           0       0.63      0.69      0.66     22020\n",
            "           1       0.66      0.59      0.62     21972\n",
            "\n",
            "    accuracy                           0.64     43992\n",
            "   macro avg       0.64      0.64      0.64     43992\n",
            "weighted avg       0.64      0.64      0.64     43992\n",
            "\n"
          ]
        }
      ],
      "source": [
        "#accuracy\n",
        "print(\"accuracy:\", mt.accuracy_score(y_test, pred))\n",
        "#precision score\n",
        "print(\"precision:\", mt.precision_score(y_test,pred))\n",
        "#recall score\n",
        "print(\"recall\" , mt.recall_score(y_test,pred))\n",
        "#auc\n",
        "print(\"f1-score\" , mt.f1_score(y_test,pred))\n",
        "print(\"ROC AUC\", roc_auc_score(y_test, pred))\n",
        "print(mt.classification_report(y_test, pred))"
      ]
    },
    {
      "cell_type": "code",
      "execution_count": null,
      "metadata": {
        "colab": {
          "base_uri": "https://localhost:8080/",
          "height": 559
        },
        "id": "kKM88xPMkloZ",
        "outputId": "e3498a28-db21-48d8-b111-b34408296795"
      },
      "outputs": [
        {
          "output_type": "display_data",
          "data": {
            "text/plain": [
              "<Figure size 432x288 with 2 Axes>"
            ],
            "image/png": "[encoded data removed]"
          },
          "metadata": {
            "needs_background": "light"
          }
        },
        {
          "output_type": "display_data",
          "data": {
            "text/plain": [
              "<Figure size 432x288 with 2 Axes>"
            ],
            "image/png": "[encoded data removed]"
          },
          "metadata": {
            "needs_background": "light"
          }
        }
      ],
      "source": [
        "#fig, ax = plt.subplots(figsize=(12, 6), ncols=1)\n",
        "cmd_train = mt.ConfusionMatrixDisplay.from_predictions(y_train, pred_train, values_format='g')\n",
        "#cmd_test = mt.ConfusionMatrixDisplay(confusion_matrix=mt.confusion_matrix(y_test, pred), values_format = '.5f')\n",
        "cmd_test=mt.ConfusionMatrixDisplay.from_predictions(y_test, pred, values_format='g')\n",
        "#cmd_train.plot(ax=ax[0], cmap='Greys', colorbar=False)\n",
        "#cmd_test.plot(ax=ax, cmap='Greys', colorbar=False)\n",
        "#ax[0].set_title('Trainset')\n",
        "#ax.set_title('Testset')\n",
        "plt.tight_layout()\n",
        "plt.show()"
      ]
    },
    {
      "cell_type": "code",
      "execution_count": null,
      "metadata": {
        "colab": {
          "base_uri": "https://localhost:8080/"
        },
        "id": "4TmkbJ1Zu9Ni",
        "outputId": "ff7d4ebb-b03c-47c0-e7df-71c15b48c343"
      },
      "outputs": [
        {
          "output_type": "stream",
          "name": "stdout",
          "text": [
            "not entailment\n"
          ]
        }
      ],
      "source": [
        "print(check_similarity('A soccer game with multiple males playing.','Some men are playing a sport.', cls))#wrong case"
      ]
    },
    {
      "cell_type": "code",
      "execution_count": null,
      "metadata": {
        "colab": {
          "base_uri": "https://localhost:8080/"
        },
        "id": "eyHNI4gRvL6k",
        "outputId": "1562730d-b8a7-413d-c953-b68616525426"
      },
      "outputs": [
        {
          "output_type": "stream",
          "name": "stdout",
          "text": [
            "not entailment\n"
          ]
        }
      ],
      "source": [
        "print(check_similarity('A man inspects the uniform of a figure in some East Asian country.','The man is sleeping', cls))"
      ]
    },
    {
      "cell_type": "code",
      "execution_count": null,
      "metadata": {
        "colab": {
          "base_uri": "https://localhost:8080/"
        },
        "id": "Ca5ZBVTG5ogU",
        "outputId": "a6a7f4ef-1524-4606-a6a9-5384a6e562c5"
      },
      "outputs": [
        {
          "output_type": "stream",
          "name": "stdout",
          "text": [
            "not entailment\n"
          ]
        }
      ],
      "source": [
        "print(check_similarity('A black race car starts up in front of a crowd of people.','A man is driving down a lonely road.',cls))"
      ]
    },
    {
      "cell_type": "code",
      "execution_count": null,
      "metadata": {
        "colab": {
          "base_uri": "https://localhost:8080/"
        },
        "id": "Etg73QIxvONw",
        "outputId": "8a544545-55f4-442d-fe55-76bd85c86b68"
      },
      "outputs": [
        {
          "output_type": "stream",
          "name": "stdout",
          "text": [
            "entailment\n"
          ]
        }
      ],
      "source": [
        "print(check_similarity('Marco is going to go out to buy something','Marco will buy something', cls))"
      ]
    },
    {
      "cell_type": "markdown",
      "metadata": {
        "id": "mkKwMnKW-WQP"
      },
      "source": [
        "LOGISTIC REGRESSION"
      ]
    },
    {
      "cell_type": "code",
      "execution_count": null,
      "metadata": {
        "id": "rAY3o8ZS-tD_"
      },
      "outputs": [],
      "source": [
        "df_tr = pd.DataFrame(similarity_sentences,columns=['sim_wordnet'])"
      ]
    },
    {
      "cell_type": "code",
      "execution_count": null,
      "metadata": {
        "id": "vr9e2YfJ-qSl"
      },
      "outputs": [],
      "source": [
        "X=df_tr[df_tr.columns[:]].values"
      ]
    },
    {
      "cell_type": "code",
      "execution_count": null,
      "metadata": {
        "id": "nJ1kI5EQ-9fi"
      },
      "outputs": [],
      "source": [
        "X_tr, X_tmp, y_tr, y_tmp= train_test_split(X, label_train, test_size=0.3, random_state=0)\n",
        "X_val, X_t, y_val, y_t= train_test_split(X_tmp, y_tmp, test_size=0.4, random_state=0)"
      ]
    },
    {
      "cell_type": "code",
      "execution_count": null,
      "metadata": {
        "id": "WR-E15pM-Tgg"
      },
      "outputs": [],
      "source": [
        "logmodel = LogisticRegression()\n",
        "logmodel.fit(X_train, y_train)\n",
        "predictions = logmodel.predict(X_test)\n",
        "pred_train= logmodel.predict(X_train)"
      ]
    },
    {
      "cell_type": "code",
      "execution_count": null,
      "metadata": {
        "colab": {
          "base_uri": "https://localhost:8080/"
        },
        "id": "ZirKcA_N-TbT",
        "outputId": "aca44750-092c-4347-d0a5-231b2b6e5bad"
      },
      "outputs": [
        {
          "output_type": "stream",
          "name": "stdout",
          "text": [
            "precision: 0.6413710933919897\n",
            "accuracy: 0.6407983269685398\n",
            "recall 0.6369925359548516\n",
            "f1-score 0.6391743161163629\n",
            "ROC AUC 0.640794178967435\n",
            "              precision    recall  f1-score   support\n",
            "\n",
            "         0.0       0.64      0.64      0.64     22020\n",
            "         1.0       0.64      0.64      0.64     21972\n",
            "\n",
            "    accuracy                           0.64     43992\n",
            "   macro avg       0.64      0.64      0.64     43992\n",
            "weighted avg       0.64      0.64      0.64     43992\n",
            "\n"
          ]
        }
      ],
      "source": [
        "print(\"precision:\", mt.precision_score(y_test,predictions))\n",
        "print(\"accuracy:\", mt.accuracy_score(y_test, predictions))\n",
        "print(\"recall\" , mt.recall_score(y_test,predictions))\n",
        "print(\"f1-score\", mt.f1_score(y_test, predictions))\n",
        "print(\"ROC AUC\", roc_auc_score(y_test, predictions))\n",
        "\n",
        "\n",
        "print(mt.classification_report(y_test, predictions))"
      ]
    },
    {
      "cell_type": "code",
      "execution_count": null,
      "metadata": {
        "colab": {
          "base_uri": "https://localhost:8080/",
          "height": 559
        },
        "id": "Zo7Oiz4--j_o",
        "outputId": "5f74ce73-6942-455c-92c1-0eb52492c683"
      },
      "outputs": [
        {
          "output_type": "display_data",
          "data": {
            "text/plain": [
              "<Figure size 432x288 with 2 Axes>"
            ],
            "image/png": "[encoded data removed]"
          },
          "metadata": {
            "needs_background": "light"
          }
        },
        {
          "output_type": "display_data",
          "data": {
            "text/plain": [
              "<Figure size 432x288 with 2 Axes>"
            ],
            "image/png": "[encoded data removed]"
          },
          "metadata": {
            "needs_background": "light"
          }
        }
      ],
      "source": [
        "#fig, ax = plt.subplots(figsize=(12, 6), ncols=1)\n",
        "cmd_train = mt.ConfusionMatrixDisplay.from_predictions(y_train, pred_train, values_format='g')\n",
        "#cmd_test = mt.ConfusionMatrixDisplay(confusion_matrix=mt.confusion_matrix(y_test, pred), values_format = '.5f')\n",
        "cmd_test=mt.ConfusionMatrixDisplay.from_predictions(y_test, predictions, values_format='g')\n",
        "#cmd_train.plot(ax=ax[0], cmap='Greys', colorbar=False)\n",
        "#cmd_test.plot(ax=ax, cmap='Greys', colorbar=False)\n",
        "#ax[0].set_title('Trainset')\n",
        "#ax.set_title('Testset')\n",
        "plt.tight_layout()\n",
        "plt.show()"
      ]
    },
    {
      "cell_type": "code",
      "execution_count": null,
      "metadata": {
        "colab": {
          "base_uri": "https://localhost:8080/",
          "height": 317
        },
        "id": "SQpiSQHN-j86",
        "outputId": "990bcbf9-4b0f-4e28-92f5-f35774372890"
      },
      "outputs": [
        {
          "output_type": "stream",
          "name": "stderr",
          "text": [
            "/usr/local/lib/python3.7/dist-packages/statsmodels/tools/_testing.py:19: FutureWarning: pandas.util.testing is deprecated. Use the functions in the public API at pandas.testing instead.\n",
            "  import pandas.util.testing as tm\n"
          ]
        },
        {
          "output_type": "execute_result",
          "data": {
            "text/plain": [
              "<matplotlib.axes._subplots.AxesSubplot at 0x7f34cfa716d0>"
            ]
          },
          "metadata": {},
          "execution_count": 101
        },
        {
          "output_type": "display_data",
          "data": {
            "text/plain": [
              "<Figure size 432x288 with 1 Axes>"
            ],
            "image/png": "[encoded data removed]"
          },
          "metadata": {
            "needs_background": "light"
          }
        }
      ],
      "source": [
        "sns.regplot(x=X_tr, y=y_tr, data=df_tr, logistic=True, ci=None, scatter_kws={'color': 'black'}, line_kws={'color': 'red'})"
      ]
    },
    {
      "cell_type": "code",
      "execution_count": null,
      "metadata": {
        "colab": {
          "base_uri": "https://localhost:8080/",
          "height": 282
        },
        "id": "FJi5KTiV_Ltq",
        "outputId": "cc490d2b-c40a-46b0-b9be-3794ecca3828"
      },
      "outputs": [
        {
          "output_type": "execute_result",
          "data": {
            "text/plain": [
              "<matplotlib.axes._subplots.AxesSubplot at 0x7f34cf82fc90>"
            ]
          },
          "metadata": {},
          "execution_count": 102
        },
        {
          "output_type": "display_data",
          "data": {
            "text/plain": [
              "<Figure size 432x288 with 1 Axes>"
            ],
            "image/png": "[encoded data removed]"
          },
          "metadata": {
            "needs_background": "light"
          }
        }
      ],
      "source": [
        "sns.regplot(x=X_t, y=y_t, data=df_tr, logistic=True, ci=None, scatter_kws={'color': 'black'}, line_kws={'color': 'red'})"
      ]
    },
    {
      "cell_type": "markdown",
      "source": [
        "KNN"
      ],
      "metadata": {
        "id": "CZPjMOQY_rWi"
      }
    },
    {
      "cell_type": "code",
      "source": [
        "from sklearn.neighbors import KNeighborsClassifier"
      ],
      "metadata": {
        "id": "EbCsS5mo_tRp"
      },
      "execution_count": 31,
      "outputs": []
    },
    {
      "cell_type": "code",
      "source": [
        "knn = KNeighborsClassifier(n_neighbors = 13)\n",
        "knn.fit(X_train, y_train)"
      ],
      "metadata": {
        "colab": {
          "base_uri": "https://localhost:8080/"
        },
        "id": "H0GyNnlT_vQr",
        "outputId": "869581d2-0945-4c51-d38f-620dcf0603a7"
      },
      "execution_count": null,
      "outputs": [
        {
          "output_type": "execute_result",
          "data": {
            "text/plain": [
              "KNeighborsClassifier(n_neighbors=13)"
            ]
          },
          "metadata": {},
          "execution_count": 231
        }
      ]
    },
    {
      "cell_type": "code",
      "source": [
        "pred_train= knn.predict(X_train)"
      ],
      "metadata": {
        "id": "5Y3aTqBZ5F7n"
      },
      "execution_count": null,
      "outputs": []
    },
    {
      "cell_type": "code",
      "source": [
        "prediction_knn = knn.predict(X_test)"
      ],
      "metadata": {
        "id": "pea8IP3-_1M8"
      },
      "execution_count": null,
      "outputs": []
    },
    {
      "cell_type": "code",
      "source": [
        "cmd_train = mt.ConfusionMatrixDisplay.from_predictions(y_train, pred_train, values_format='g')\n",
        "cmd_test=mt.ConfusionMatrixDisplay.from_predictions(y_test, prediction_knn, values_format='g')\n",
        "plt.tight_layout()\n",
        "plt.show()\n",
        "\n",
        "print(\"precision:\", mt.precision_score(y_test,prediction_knn))\n",
        "print(\"accuracy:\", mt.accuracy_score(y_test, prediction_knn))\n",
        "print(\"recall\" , mt.recall_score(y_test,prediction_knn))\n",
        "print(\"f1-score\", mt.f1_score(y_test, prediction_knn))\n",
        "print(\"ROC AUC\", roc_auc_score(y_test, prediction_knn))\n",
        "print(classification_report(y_test, prediction_knn))"
      ],
      "metadata": {
        "colab": {
          "base_uri": "https://localhost:8080/",
          "height": 802
        },
        "id": "uHKLtkycABgg",
        "outputId": "6c4484a7-1165-4782-ae83-ba2287a0bda7"
      },
      "execution_count": null,
      "outputs": [
        {
          "output_type": "display_data",
          "data": {
            "text/plain": [
              "<Figure size 432x288 with 2 Axes>"
            ],
            "image/png": "[encoded data removed]"
          },
          "metadata": {
            "needs_background": "light"
          }
        },
        {
          "output_type": "display_data",
          "data": {
            "text/plain": [
              "<Figure size 432x288 with 2 Axes>"
            ],
            "image/png": "[encoded data removed]"
          },
          "metadata": {
            "needs_background": "light"
          }
        },
        {
          "output_type": "stream",
          "name": "stdout",
          "text": [
            "precision: 0.6309478492577084\n",
            "accuracy: 0.6256592107655937\n",
            "recall 0.6034953577280174\n",
            "f1-score 0.6169163487484879\n",
            "ROC AUC 0.6256350539775419\n",
            "              precision    recall  f1-score   support\n",
            "\n",
            "           0       0.62      0.65      0.63     22020\n",
            "           1       0.63      0.60      0.62     21972\n",
            "\n",
            "    accuracy                           0.63     43992\n",
            "   macro avg       0.63      0.63      0.63     43992\n",
            "weighted avg       0.63      0.63      0.63     43992\n",
            "\n"
          ]
        }
      ]
    },
    {
      "cell_type": "code",
      "source": [
        "print(check_similarity('Tim has bought fish tonight','Tim has spent money tonight', knn)) #wrong case"
      ],
      "metadata": {
        "colab": {
          "base_uri": "https://localhost:8080/"
        },
        "id": "46zZapRpAyXb",
        "outputId": "9727763f-ae8c-4b68-d799-7f89115bdc0f"
      },
      "execution_count": null,
      "outputs": [
        {
          "output_type": "stream",
          "name": "stdout",
          "text": [
            "not entailment\n"
          ]
        }
      ]
    },
    {
      "cell_type": "code",
      "source": [
        "print(check_similarity('Tim has bought fish tonight','Tim has bought something', knn))"
      ],
      "metadata": {
        "colab": {
          "base_uri": "https://localhost:8080/"
        },
        "id": "dbVMAzMMBAC3",
        "outputId": "6b945672-c686-4514-a2a2-7994f977f59c"
      },
      "execution_count": null,
      "outputs": [
        {
          "output_type": "stream",
          "name": "stdout",
          "text": [
            "entailment\n"
          ]
        }
      ]
    },
    {
      "cell_type": "markdown",
      "metadata": {
        "id": "WO0VaPUIZ6mo"
      },
      "source": [
        "TEST WITH MNLI DATASET"
      ]
    },
    {
      "cell_type": "code",
      "execution_count": 32,
      "metadata": {
        "id": "_XcuBKQtZ52m"
      },
      "outputs": [],
      "source": [
        "df_train= pd.read_json(\"multinli_1.0_train.jsonl\", lines=True)"
      ]
    },
    {
      "cell_type": "code",
      "execution_count": 33,
      "metadata": {
        "id": "RJtP-2dybrpU"
      },
      "outputs": [],
      "source": [
        "df_train.dropna(axis=0, inplace=True)\n",
        "\n",
        "df_train = (\n",
        "    df_train[df_train.gold_label != \"-\"]\n",
        "    .sample(frac=1.0, random_state=42)\n",
        "    .reset_index(drop=True)\n",
        ")\n",
        "\n",
        "df_train = (\n",
        "    df_train[df_train.gold_label != \"neutral\"]\n",
        "    .sample(frac=1.0, random_state=42)\n",
        "    .reset_index(drop=True)\n",
        ")"
      ]
    },
    {
      "cell_type": "code",
      "execution_count": 34,
      "metadata": {
        "id": "ZJ1v7AFsbrhe"
      },
      "outputs": [],
      "source": [
        "df_train[\"label\"] = df_train[\"gold_label\"].apply(\n",
        "    lambda x: 0 if x == \"contradiction\" else 1\n",
        ")"
      ]
    },
    {
      "cell_type": "code",
      "execution_count": 35,
      "metadata": {
        "id": "NOMbNidtdV7B"
      },
      "outputs": [],
      "source": [
        "sentence1_train= list_extractor(df_train, 'sentence1')\n",
        "sentence2_train= list_extractor(df_train, 'sentence2')\n",
        "label_train= df_train['label'].tolist()"
      ]
    },
    {
      "cell_type": "code",
      "execution_count": null,
      "metadata": {
        "id": "ihkoFnINeRy0",
        "colab": {
          "base_uri": "https://localhost:8080/",
          "height": 236
        },
        "outputId": "f9e0362a-54fc-4a6b-e8d5-9975006413fb"
      },
      "outputs": [
        {
          "output_type": "error",
          "ename": "NameError",
          "evalue": "ignored",
          "traceback": [
            "\u001b[0;31m---------------------------------------------------------------------------\u001b[0m",
            "\u001b[0;31mNameError\u001b[0m                                 Traceback (most recent call last)",
            "\u001b[0;32m<ipython-input-255-7160d414f3c6>\u001b[0m in \u001b[0;36m<module>\u001b[0;34m\u001b[0m\n\u001b[1;32m      2\u001b[0m \u001b[0mlist_cosine\u001b[0m\u001b[0;34m=\u001b[0m\u001b[0;34m[\u001b[0m\u001b[0;34m]\u001b[0m\u001b[0;34m\u001b[0m\u001b[0;34m\u001b[0m\u001b[0m\n\u001b[1;32m      3\u001b[0m \u001b[0;32mfor\u001b[0m \u001b[0mi\u001b[0m \u001b[0;32min\u001b[0m \u001b[0mrange\u001b[0m\u001b[0;34m(\u001b[0m\u001b[0mlen\u001b[0m\u001b[0;34m(\u001b[0m\u001b[0msentence1_train\u001b[0m\u001b[0;34m)\u001b[0m\u001b[0;34m)\u001b[0m\u001b[0;34m:\u001b[0m\u001b[0;34m\u001b[0m\u001b[0;34m\u001b[0m\u001b[0m\n\u001b[0;32m----> 4\u001b[0;31m   \u001b[0mlist_cosine\u001b[0m\u001b[0;34m.\u001b[0m\u001b[0mappend\u001b[0m\u001b[0;34m(\u001b[0m\u001b[0mcount_freq\u001b[0m\u001b[0;34m(\u001b[0m\u001b[0msentence1_train\u001b[0m\u001b[0;34m,\u001b[0m\u001b[0mi\u001b[0m\u001b[0;34m,\u001b[0m\u001b[0msentence2_train\u001b[0m\u001b[0;34m)\u001b[0m\u001b[0;34m)\u001b[0m\u001b[0;34m\u001b[0m\u001b[0;34m\u001b[0m\u001b[0m\n\u001b[0m\u001b[1;32m      5\u001b[0m \u001b[0;34m\u001b[0m\u001b[0m\n\u001b[1;32m      6\u001b[0m \u001b[0;31m#cosine values for train\u001b[0m\u001b[0;34m\u001b[0m\u001b[0;34m\u001b[0m\u001b[0;34m\u001b[0m\u001b[0m\n",
            "\u001b[0;31mNameError\u001b[0m: name 'count_freq' is not defined"
          ]
        }
      ],
      "source": [
        "#cosine values for train\n",
        "list_cosine=[]\n",
        "for i in range(len(sentence1_train)):\n",
        "  list_cosine.append(count_freq(sentence1_train,i,sentence2_train))\n",
        "\n",
        "#cosine values for train\n",
        "cosine_values=[]\n",
        "for i in range(len(list_cosine)):\n",
        "  cosine_values.append(list_cosine[i])"
      ]
    },
    {
      "cell_type": "code",
      "execution_count": null,
      "metadata": {
        "id": "LzEyYH7TeX-1"
      },
      "outputs": [],
      "source": [
        "#cosine bow for train\n",
        "list_cosine_bow=[bag_of_words(sentence1_train[i],sentence2_train[i])for i in range(len(sentence1_train))]"
      ]
    },
    {
      "cell_type": "code",
      "execution_count": 36,
      "metadata": {
        "id": "jlapvizueX3w"
      },
      "outputs": [],
      "source": [
        "#similarity gensim for train\n",
        "sim_gensim_train=[]\n",
        "for i in range(len(sentence1_train)):\n",
        "  sim_gensim_train.append(func(sentence1_train[i], sentence2_train[i])) "
      ]
    },
    {
      "cell_type": "code",
      "execution_count": 37,
      "metadata": {
        "id": "VxhND6ZfeXt0"
      },
      "outputs": [],
      "source": [
        "#similarity train with spacy\n",
        "sim_spacy=[]\n",
        "for i in range(len(sentence1_train)):\n",
        "  sim_spacy.append(similarity_spacy(sentence1_train[i], sentence2_train[i]))"
      ]
    },
    {
      "cell_type": "code",
      "execution_count": 38,
      "metadata": {
        "id": "EzUtOqOpep6_"
      },
      "outputs": [],
      "source": [
        "#compute similarity with wordnet for train\n",
        "similarity_sentences=[]\n",
        "for i in range(len(sentence1_train)):\n",
        "  similarity_sentences.append(symmetric_sentence_similarity(sentence1_train[i], sentence2_train[i]))"
      ]
    },
    {
      "cell_type": "code",
      "execution_count": 39,
      "metadata": {
        "id": "IL9vHT_Dep4c"
      },
      "outputs": [],
      "source": [
        "#leveshtein distance\n",
        "lev_distance_train=[]\n",
        "for i in range(len(sentence1_train)):\n",
        "  lev_distance_train.append(lev_distance(sentence1_train[i], sentence2_train[i]))"
      ]
    },
    {
      "cell_type": "code",
      "execution_count": 40,
      "metadata": {
        "colab": {
          "base_uri": "https://localhost:8080/",
          "height": 206
        },
        "id": "CnlDWNSTep2h",
        "outputId": "062506d4-de89-43de-d52e-6a451d53a1a7"
      },
      "outputs": [
        {
          "output_type": "execute_result",
          "data": {
            "text/plain": [
              "   sim_wordnet  similarity_spacy  similarity_gensim  lev_distance\n",
              "0     0.715278          0.818720           0.742434      2.666667\n",
              "1     0.813888          0.891022           0.605123      1.933333\n",
              "2     0.515192          0.813605           0.368257      2.473684\n",
              "3     0.466382          0.773367           0.358047      3.285714\n",
              "4     0.685245          0.864092           0.734841      2.263158"
            ],
            "text/html": [
              "\n",
              "  <div id=\"df-84ddebf7-09a4-426b-b5a3-a6767c38fafd\">\n",
              "    <div class=\"colab-df-container\">\n",
              "      <div>\n",
              "<style scoped>\n",
              "    .dataframe tbody tr th:only-of-type {\n",
              "        vertical-align: middle;\n",
              "    }\n",
              "\n",
              "    .dataframe tbody tr th {\n",
              "        vertical-align: top;\n",
              "    }\n",
              "\n",
              "    .dataframe thead th {\n",
              "        text-align: right;\n",
              "    }\n",
              "</style>\n",
              "<table border=\"1\" class=\"dataframe\">\n",
              "  <thead>\n",
              "    <tr style=\"text-align: right;\">\n",
              "      <th></th>\n",
              "      <th>sim_wordnet</th>\n",
              "      <th>similarity_spacy</th>\n",
              "      <th>similarity_gensim</th>\n",
              "      <th>lev_distance</th>\n",
              "    </tr>\n",
              "  </thead>\n",
              "  <tbody>\n",
              "    <tr>\n",
              "      <th>0</th>\n",
              "      <td>0.715278</td>\n",
              "      <td>0.818720</td>\n",
              "      <td>0.742434</td>\n",
              "      <td>2.666667</td>\n",
              "    </tr>\n",
              "    <tr>\n",
              "      <th>1</th>\n",
              "      <td>0.813888</td>\n",
              "      <td>0.891022</td>\n",
              "      <td>0.605123</td>\n",
              "      <td>1.933333</td>\n",
              "    </tr>\n",
              "    <tr>\n",
              "      <th>2</th>\n",
              "      <td>0.515192</td>\n",
              "      <td>0.813605</td>\n",
              "      <td>0.368257</td>\n",
              "      <td>2.473684</td>\n",
              "    </tr>\n",
              "    <tr>\n",
              "      <th>3</th>\n",
              "      <td>0.466382</td>\n",
              "      <td>0.773367</td>\n",
              "      <td>0.358047</td>\n",
              "      <td>3.285714</td>\n",
              "    </tr>\n",
              "    <tr>\n",
              "      <th>4</th>\n",
              "      <td>0.685245</td>\n",
              "      <td>0.864092</td>\n",
              "      <td>0.734841</td>\n",
              "      <td>2.263158</td>\n",
              "    </tr>\n",
              "  </tbody>\n",
              "</table>\n",
              "</div>\n",
              "      <button class=\"colab-df-convert\" onclick=\"convertToInteractive('df-84ddebf7-09a4-426b-b5a3-a6767c38fafd')\"\n",
              "              title=\"Convert this dataframe to an interactive table.\"\n",
              "              style=\"display:none;\">\n",
              "        \n",
              "  <svg xmlns=\"http://www.w3.org/2000/svg\" height=\"24px\"viewBox=\"0 0 24 24\"\n",
              "       width=\"24px\">\n",
              "    <path d=\"M0 0h24v24H0V0z\" fill=\"none\"/>\n",
              "    <path d=\"M18.56 5.44l.94 2.06.94-2.06 2.06-.94-2.06-.94-.94-2.06-.94 2.06-2.06.94zm-11 1L8.5 8.5l.94-2.06 2.06-.94-2.06-.94L8.5 2.5l-.94 2.06-2.06.94zm10 10l.94 2.06.94-2.06 2.06-.94-2.06-.94-.94-2.06-.94 2.06-2.06.94z\"/><path d=\"M17.41 7.96l-1.37-1.37c-.4-.4-.92-.59-1.43-.59-.52 0-1.04.2-1.43.59L10.3 9.45l-7.72 7.72c-.78.78-.78 2.05 0 2.83L4 21.41c.39.39.9.59 1.41.59.51 0 1.02-.2 1.41-.59l7.78-7.78 2.81-2.81c.8-.78.8-2.07 0-2.86zM5.41 20L4 18.59l7.72-7.72 1.47 1.35L5.41 20z\"/>\n",
              "  </svg>\n",
              "      </button>\n",
              "      \n",
              "  <style>\n",
              "    .colab-df-container {\n",
              "      display:flex;\n",
              "      flex-wrap:wrap;\n",
              "      gap: 12px;\n",
              "    }\n",
              "\n",
              "    .colab-df-convert {\n",
              "      background-color: #E8F0FE;\n",
              "      border: none;\n",
              "      border-radius: 50%;\n",
              "      cursor: pointer;\n",
              "      display: none;\n",
              "      fill: #1967D2;\n",
              "      height: 32px;\n",
              "      padding: 0 0 0 0;\n",
              "      width: 32px;\n",
              "    }\n",
              "\n",
              "    .colab-df-convert:hover {\n",
              "      background-color: #E2EBFA;\n",
              "      box-shadow: 0px 1px 2px rgba(60, 64, 67, 0.3), 0px 1px 3px 1px rgba(60, 64, 67, 0.15);\n",
              "      fill: #174EA6;\n",
              "    }\n",
              "\n",
              "    [theme=dark] .colab-df-convert {\n",
              "      background-color: #3B4455;\n",
              "      fill: #D2E3FC;\n",
              "    }\n",
              "\n",
              "    [theme=dark] .colab-df-convert:hover {\n",
              "      background-color: #434B5C;\n",
              "      box-shadow: 0px 1px 3px 1px rgba(0, 0, 0, 0.15);\n",
              "      filter: drop-shadow(0px 1px 2px rgba(0, 0, 0, 0.3));\n",
              "      fill: #FFFFFF;\n",
              "    }\n",
              "  </style>\n",
              "\n",
              "      <script>\n",
              "        const buttonEl =\n",
              "          document.querySelector('#df-84ddebf7-09a4-426b-b5a3-a6767c38fafd button.colab-df-convert');\n",
              "        buttonEl.style.display =\n",
              "          google.colab.kernel.accessAllowed ? 'block' : 'none';\n",
              "\n",
              "        async function convertToInteractive(key) {\n",
              "          const element = document.querySelector('#df-84ddebf7-09a4-426b-b5a3-a6767c38fafd');\n",
              "          const dataTable =\n",
              "            await google.colab.kernel.invokeFunction('convertToInteractive',\n",
              "                                                     [key], {});\n",
              "          if (!dataTable) return;\n",
              "\n",
              "          const docLinkHtml = 'Like what you see? Visit the ' +\n",
              "            '<a target=\"_blank\" href=https://colab.research.google.com/notebooks/data_table.ipynb>data table notebook</a>'\n",
              "            + ' to learn more about interactive tables.';\n",
              "          element.innerHTML = '';\n",
              "          dataTable['output_type'] = 'display_data';\n",
              "          await google.colab.output.renderOutput(dataTable, element);\n",
              "          const docLink = document.createElement('div');\n",
              "          docLink.innerHTML = docLinkHtml;\n",
              "          element.appendChild(docLink);\n",
              "        }\n",
              "      </script>\n",
              "    </div>\n",
              "  </div>\n",
              "  "
            ]
          },
          "metadata": {},
          "execution_count": 40
        }
      ],
      "source": [
        "#df_tr = pd.DataFrame(list_cosine_bow,columns=['cosine_sim'])\n",
        "#df_tr['cosine_occ']= cosine_values\n",
        "df_tr= pd.DataFrame(similarity_sentences, columns=['sim_wordnet'])\n",
        "#df_tr['similarity_wordnet']=similarity_sentences\n",
        "df_tr['similarity_spacy']= sim_spacy\n",
        "df_tr['similarity_gensim']= sim_gensim_train\n",
        "df_tr['lev_distance']= lev_distance_train\n",
        "df_tr.head(5)"
      ]
    },
    {
      "cell_type": "markdown",
      "metadata": {
        "id": "rUzIXPTIgMjA"
      },
      "source": [
        "NEURAL NETWORK"
      ]
    },
    {
      "cell_type": "code",
      "execution_count": 65,
      "metadata": {
        "id": "DoF34Br2epyN"
      },
      "outputs": [],
      "source": [
        "X_train= df_tr[df_tr.columns[:]].values #valori del train"
      ]
    },
    {
      "cell_type": "code",
      "source": [
        "scaled_data = scale.fit_transform(X_train)"
      ],
      "metadata": {
        "id": "UI_2t0x670DN"
      },
      "execution_count": 66,
      "outputs": []
    },
    {
      "cell_type": "code",
      "execution_count": 67,
      "metadata": {
        "id": "GjSVaIfGfI61"
      },
      "outputs": [],
      "source": [
        "X_train, X_temp, y_train, y_temp= train_test_split(X_train, label_train, test_size=0.4, random_state=42)\n",
        "X_valid, X_test, y_valid, y_test= train_test_split(X_temp, y_temp, test_size=0.4, random_state=42)"
      ]
    },
    {
      "cell_type": "code",
      "execution_count": 68,
      "metadata": {
        "id": "g68car53fI4I"
      },
      "outputs": [],
      "source": [
        "y_train= np.asarray(y_train) #valori label y per il train\n",
        "#x_test= np.asarray(X_test) #valori x per il test\n",
        "y_test=np.asarray(y_test) #valori y per il test\n",
        "x_valid= np.asarray(X_valid) #valori x per validation\n",
        "y_valid=np.asarray(y_valid) #valori y per validation"
      ]
    },
    {
      "cell_type": "code",
      "execution_count": 121,
      "metadata": {
        "id": "8Q5OU5zUfI1u"
      },
      "outputs": [],
      "source": [
        "model1= tf.keras.Sequential([\n",
        "                            tf.keras.layers.Dense(16, activation='softmax'), #layer di una dense NN, denso indica che un neurone prende come gli input da tutti i neuroni, con 16 neuroni\n",
        "                            tf.keras.layers.Dense(16, activation='softmax'),\n",
        "                            tf.keras.layers.Dense(1, activation='sigmoid')\n",
        "])"
      ]
    },
    {
      "cell_type": "code",
      "execution_count": 122,
      "metadata": {
        "id": "Pj4JY4BvfmbB"
      },
      "outputs": [],
      "source": [
        "model1.compile(optimizer=tf.keras.optimizers.Adam(learning_rate=0.001),\n",
        "              loss=tf.keras.losses.BinaryCrossentropy(),\n",
        "              metrics= ['accuracy']\n",
        "              )"
      ]
    },
    {
      "cell_type": "code",
      "execution_count": 123,
      "metadata": {
        "colab": {
          "base_uri": "https://localhost:8080/"
        },
        "id": "RVu3mVXMfmW7",
        "outputId": "96516d67-a2e5-4ea3-82af-587182706759"
      },
      "outputs": [
        {
          "output_type": "stream",
          "name": "stdout",
          "text": [
            "4909/4909 [==============================] - 7s 1ms/step - loss: 0.6955 - accuracy: 0.5000\n"
          ]
        },
        {
          "output_type": "execute_result",
          "data": {
            "text/plain": [
              "[0.695500373840332, 0.5000413656234741]"
            ]
          },
          "metadata": {},
          "execution_count": 123
        }
      ],
      "source": [
        "model1.evaluate(X_train, y_train)"
      ]
    },
    {
      "cell_type": "code",
      "execution_count": 124,
      "metadata": {
        "colab": {
          "base_uri": "https://localhost:8080/"
        },
        "id": "StmX1ethfIv_",
        "outputId": "354592e0-bc12-43b6-c386-d348307645f8"
      },
      "outputs": [
        {
          "output_type": "stream",
          "name": "stdout",
          "text": [
            "1964/1964 [==============================] - 4s 2ms/step - loss: 0.6955 - accuracy: 0.5001\n"
          ]
        },
        {
          "output_type": "execute_result",
          "data": {
            "text/plain": [
              "[0.6954891681671143, 0.5001273155212402]"
            ]
          },
          "metadata": {},
          "execution_count": 124
        }
      ],
      "source": [
        "model1.evaluate(X_valid, y_valid)"
      ]
    },
    {
      "cell_type": "code",
      "execution_count": 125,
      "metadata": {
        "colab": {
          "base_uri": "https://localhost:8080/"
        },
        "id": "fM87B7Oaf69P",
        "outputId": "4bf8aecc-643f-4b38-e093-9c54edd635ab"
      },
      "outputs": [
        {
          "output_type": "stream",
          "name": "stdout",
          "text": [
            "Epoch 1/70\n",
            "873/873 [==============================] - 3s 3ms/step - loss: 0.6834 - accuracy: 0.5756 - val_loss: 0.6687 - val_accuracy: 0.5968\n",
            "Epoch 2/70\n",
            "873/873 [==============================] - 2s 2ms/step - loss: 0.6667 - accuracy: 0.5988 - val_loss: 0.6654 - val_accuracy: 0.5977\n",
            "Epoch 3/70\n",
            "873/873 [==============================] - 2s 2ms/step - loss: 0.6647 - accuracy: 0.6013 - val_loss: 0.6633 - val_accuracy: 0.6008\n",
            "Epoch 4/70\n",
            "873/873 [==============================] - 2s 3ms/step - loss: 0.6624 - accuracy: 0.6044 - val_loss: 0.6609 - val_accuracy: 0.6043\n",
            "Epoch 5/70\n",
            "873/873 [==============================] - 2s 3ms/step - loss: 0.6601 - accuracy: 0.6075 - val_loss: 0.6586 - val_accuracy: 0.6085\n",
            "Epoch 6/70\n",
            "873/873 [==============================] - 2s 2ms/step - loss: 0.6581 - accuracy: 0.6106 - val_loss: 0.6569 - val_accuracy: 0.6111\n",
            "Epoch 7/70\n",
            "873/873 [==============================] - 2s 3ms/step - loss: 0.6568 - accuracy: 0.6133 - val_loss: 0.6558 - val_accuracy: 0.6132\n",
            "Epoch 8/70\n",
            "873/873 [==============================] - 2s 2ms/step - loss: 0.6560 - accuracy: 0.6153 - val_loss: 0.6550 - val_accuracy: 0.6143\n",
            "Epoch 9/70\n",
            "873/873 [==============================] - 2s 2ms/step - loss: 0.6554 - accuracy: 0.6168 - val_loss: 0.6546 - val_accuracy: 0.6159\n",
            "Epoch 10/70\n",
            "873/873 [==============================] - 2s 3ms/step - loss: 0.6551 - accuracy: 0.6173 - val_loss: 0.6543 - val_accuracy: 0.6167\n",
            "Epoch 11/70\n",
            "873/873 [==============================] - 2s 2ms/step - loss: 0.6549 - accuracy: 0.6172 - val_loss: 0.6542 - val_accuracy: 0.6170\n",
            "Epoch 12/70\n",
            "873/873 [==============================] - 2s 2ms/step - loss: 0.6546 - accuracy: 0.6178 - val_loss: 0.6540 - val_accuracy: 0.6168\n",
            "Epoch 13/70\n",
            "873/873 [==============================] - 2s 2ms/step - loss: 0.6543 - accuracy: 0.6184 - val_loss: 0.6537 - val_accuracy: 0.6185\n",
            "Epoch 14/70\n",
            "873/873 [==============================] - 2s 2ms/step - loss: 0.6541 - accuracy: 0.6193 - val_loss: 0.6534 - val_accuracy: 0.6187\n",
            "Epoch 15/70\n",
            "873/873 [==============================] - 2s 2ms/step - loss: 0.6538 - accuracy: 0.6191 - val_loss: 0.6533 - val_accuracy: 0.6192\n",
            "Epoch 16/70\n",
            "873/873 [==============================] - 2s 3ms/step - loss: 0.6537 - accuracy: 0.6193 - val_loss: 0.6534 - val_accuracy: 0.6190\n",
            "Epoch 17/70\n",
            "873/873 [==============================] - 2s 2ms/step - loss: 0.6534 - accuracy: 0.6196 - val_loss: 0.6529 - val_accuracy: 0.6200\n",
            "Epoch 18/70\n",
            "873/873 [==============================] - 2s 3ms/step - loss: 0.6533 - accuracy: 0.6200 - val_loss: 0.6527 - val_accuracy: 0.6199\n",
            "Epoch 19/70\n",
            "873/873 [==============================] - 2s 2ms/step - loss: 0.6531 - accuracy: 0.6205 - val_loss: 0.6526 - val_accuracy: 0.6206\n",
            "Epoch 20/70\n",
            "873/873 [==============================] - 2s 3ms/step - loss: 0.6529 - accuracy: 0.6201 - val_loss: 0.6533 - val_accuracy: 0.6191\n",
            "Epoch 21/70\n",
            "873/873 [==============================] - 2s 2ms/step - loss: 0.6527 - accuracy: 0.6204 - val_loss: 0.6523 - val_accuracy: 0.6203\n",
            "Epoch 22/70\n",
            "873/873 [==============================] - 2s 2ms/step - loss: 0.6526 - accuracy: 0.6210 - val_loss: 0.6520 - val_accuracy: 0.6210\n",
            "Epoch 23/70\n",
            "873/873 [==============================] - 2s 2ms/step - loss: 0.6524 - accuracy: 0.6205 - val_loss: 0.6521 - val_accuracy: 0.6203\n",
            "Epoch 24/70\n",
            "873/873 [==============================] - 2s 2ms/step - loss: 0.6523 - accuracy: 0.6209 - val_loss: 0.6521 - val_accuracy: 0.6207\n",
            "Epoch 25/70\n",
            "873/873 [==============================] - 2s 2ms/step - loss: 0.6521 - accuracy: 0.6209 - val_loss: 0.6516 - val_accuracy: 0.6218\n",
            "Epoch 26/70\n",
            "873/873 [==============================] - 2s 3ms/step - loss: 0.6520 - accuracy: 0.6215 - val_loss: 0.6516 - val_accuracy: 0.6214\n",
            "Epoch 27/70\n",
            "873/873 [==============================] - 2s 3ms/step - loss: 0.6517 - accuracy: 0.6219 - val_loss: 0.6514 - val_accuracy: 0.6220\n",
            "Epoch 28/70\n",
            "873/873 [==============================] - 2s 2ms/step - loss: 0.6517 - accuracy: 0.6215 - val_loss: 0.6513 - val_accuracy: 0.6220\n",
            "Epoch 29/70\n",
            "873/873 [==============================] - 2s 3ms/step - loss: 0.6515 - accuracy: 0.6217 - val_loss: 0.6512 - val_accuracy: 0.6225\n",
            "Epoch 30/70\n",
            "873/873 [==============================] - 2s 2ms/step - loss: 0.6514 - accuracy: 0.6219 - val_loss: 0.6510 - val_accuracy: 0.6226\n",
            "Epoch 31/70\n",
            "873/873 [==============================] - 2s 2ms/step - loss: 0.6512 - accuracy: 0.6224 - val_loss: 0.6509 - val_accuracy: 0.6224\n",
            "Epoch 32/70\n",
            "873/873 [==============================] - 2s 2ms/step - loss: 0.6512 - accuracy: 0.6223 - val_loss: 0.6508 - val_accuracy: 0.6223\n",
            "Epoch 33/70\n",
            "873/873 [==============================] - 2s 2ms/step - loss: 0.6512 - accuracy: 0.6219 - val_loss: 0.6507 - val_accuracy: 0.6219\n",
            "Epoch 34/70\n",
            "873/873 [==============================] - 2s 3ms/step - loss: 0.6510 - accuracy: 0.6221 - val_loss: 0.6506 - val_accuracy: 0.6226\n",
            "Epoch 35/70\n",
            "873/873 [==============================] - 2s 3ms/step - loss: 0.6510 - accuracy: 0.6217 - val_loss: 0.6507 - val_accuracy: 0.6229\n",
            "Epoch 36/70\n",
            "873/873 [==============================] - 2s 3ms/step - loss: 0.6509 - accuracy: 0.6214 - val_loss: 0.6509 - val_accuracy: 0.6224\n",
            "Epoch 37/70\n",
            "873/873 [==============================] - 2s 2ms/step - loss: 0.6508 - accuracy: 0.6223 - val_loss: 0.6511 - val_accuracy: 0.6198\n",
            "Epoch 38/70\n",
            "873/873 [==============================] - 2s 2ms/step - loss: 0.6509 - accuracy: 0.6222 - val_loss: 0.6507 - val_accuracy: 0.6223\n",
            "Epoch 39/70\n",
            "873/873 [==============================] - 2s 3ms/step - loss: 0.6507 - accuracy: 0.6218 - val_loss: 0.6505 - val_accuracy: 0.6215\n",
            "Epoch 40/70\n",
            "873/873 [==============================] - 3s 3ms/step - loss: 0.6507 - accuracy: 0.6218 - val_loss: 0.6504 - val_accuracy: 0.6226\n",
            "Epoch 41/70\n",
            "873/873 [==============================] - 2s 2ms/step - loss: 0.6506 - accuracy: 0.6224 - val_loss: 0.6505 - val_accuracy: 0.6218\n",
            "Epoch 42/70\n",
            "873/873 [==============================] - 2s 2ms/step - loss: 0.6506 - accuracy: 0.6221 - val_loss: 0.6509 - val_accuracy: 0.6199\n",
            "Epoch 43/70\n",
            "873/873 [==============================] - 2s 2ms/step - loss: 0.6506 - accuracy: 0.6218 - val_loss: 0.6503 - val_accuracy: 0.6228\n",
            "Epoch 44/70\n",
            "873/873 [==============================] - 2s 2ms/step - loss: 0.6505 - accuracy: 0.6218 - val_loss: 0.6513 - val_accuracy: 0.6201\n",
            "Epoch 45/70\n",
            "873/873 [==============================] - 2s 3ms/step - loss: 0.6505 - accuracy: 0.6231 - val_loss: 0.6505 - val_accuracy: 0.6210\n",
            "Epoch 46/70\n",
            "873/873 [==============================] - 2s 3ms/step - loss: 0.6504 - accuracy: 0.6224 - val_loss: 0.6502 - val_accuracy: 0.6224\n",
            "Epoch 47/70\n",
            "873/873 [==============================] - 2s 3ms/step - loss: 0.6504 - accuracy: 0.6219 - val_loss: 0.6508 - val_accuracy: 0.6216\n",
            "Epoch 48/70\n",
            "873/873 [==============================] - 2s 3ms/step - loss: 0.6504 - accuracy: 0.6222 - val_loss: 0.6502 - val_accuracy: 0.6224\n",
            "Epoch 49/70\n",
            "873/873 [==============================] - 2s 2ms/step - loss: 0.6504 - accuracy: 0.6225 - val_loss: 0.6501 - val_accuracy: 0.6225\n",
            "Epoch 50/70\n",
            "873/873 [==============================] - 2s 2ms/step - loss: 0.6504 - accuracy: 0.6222 - val_loss: 0.6501 - val_accuracy: 0.6223\n",
            "Epoch 51/70\n",
            "873/873 [==============================] - 2s 3ms/step - loss: 0.6503 - accuracy: 0.6222 - val_loss: 0.6501 - val_accuracy: 0.6228\n",
            "Epoch 52/70\n",
            "873/873 [==============================] - 2s 3ms/step - loss: 0.6503 - accuracy: 0.6221 - val_loss: 0.6501 - val_accuracy: 0.6220\n",
            "Epoch 53/70\n",
            "873/873 [==============================] - 2s 3ms/step - loss: 0.6503 - accuracy: 0.6220 - val_loss: 0.6503 - val_accuracy: 0.6214\n",
            "Epoch 54/70\n",
            "873/873 [==============================] - 2s 3ms/step - loss: 0.6503 - accuracy: 0.6225 - val_loss: 0.6501 - val_accuracy: 0.6222\n",
            "Epoch 55/70\n",
            "873/873 [==============================] - 2s 2ms/step - loss: 0.6503 - accuracy: 0.6226 - val_loss: 0.6501 - val_accuracy: 0.6224\n",
            "Epoch 56/70\n",
            "873/873 [==============================] - 2s 3ms/step - loss: 0.6503 - accuracy: 0.6222 - val_loss: 0.6502 - val_accuracy: 0.6223\n",
            "Epoch 57/70\n",
            "873/873 [==============================] - 2s 3ms/step - loss: 0.6503 - accuracy: 0.6222 - val_loss: 0.6501 - val_accuracy: 0.6223\n",
            "Epoch 58/70\n",
            "873/873 [==============================] - 2s 2ms/step - loss: 0.6503 - accuracy: 0.6224 - val_loss: 0.6500 - val_accuracy: 0.6226\n",
            "Epoch 59/70\n",
            "873/873 [==============================] - 2s 2ms/step - loss: 0.6502 - accuracy: 0.6224 - val_loss: 0.6501 - val_accuracy: 0.6224\n",
            "Epoch 60/70\n",
            "873/873 [==============================] - 2s 3ms/step - loss: 0.6502 - accuracy: 0.6223 - val_loss: 0.6502 - val_accuracy: 0.6220\n",
            "Epoch 61/70\n",
            "873/873 [==============================] - 2s 3ms/step - loss: 0.6503 - accuracy: 0.6227 - val_loss: 0.6502 - val_accuracy: 0.6222\n",
            "Epoch 62/70\n",
            "873/873 [==============================] - 2s 2ms/step - loss: 0.6502 - accuracy: 0.6223 - val_loss: 0.6499 - val_accuracy: 0.6228\n",
            "Epoch 63/70\n",
            "873/873 [==============================] - 2s 3ms/step - loss: 0.6502 - accuracy: 0.6219 - val_loss: 0.6502 - val_accuracy: 0.6224\n",
            "Epoch 64/70\n",
            "873/873 [==============================] - 2s 2ms/step - loss: 0.6502 - accuracy: 0.6220 - val_loss: 0.6500 - val_accuracy: 0.6217\n",
            "Epoch 65/70\n",
            "873/873 [==============================] - 2s 3ms/step - loss: 0.6502 - accuracy: 0.6225 - val_loss: 0.6502 - val_accuracy: 0.6221\n",
            "Epoch 66/70\n",
            "873/873 [==============================] - 2s 3ms/step - loss: 0.6502 - accuracy: 0.6218 - val_loss: 0.6507 - val_accuracy: 0.6201\n",
            "Epoch 67/70\n",
            "873/873 [==============================] - 2s 3ms/step - loss: 0.6502 - accuracy: 0.6222 - val_loss: 0.6504 - val_accuracy: 0.6210\n",
            "Epoch 68/70\n",
            "873/873 [==============================] - 2s 3ms/step - loss: 0.6502 - accuracy: 0.6220 - val_loss: 0.6498 - val_accuracy: 0.6228\n",
            "Epoch 69/70\n",
            "873/873 [==============================] - 2s 2ms/step - loss: 0.6501 - accuracy: 0.6224 - val_loss: 0.6499 - val_accuracy: 0.6226\n",
            "Epoch 70/70\n",
            "873/873 [==============================] - 2s 2ms/step - loss: 0.6501 - accuracy: 0.6223 - val_loss: 0.6499 - val_accuracy: 0.6226\n"
          ]
        }
      ],
      "source": [
        "history= model1.fit(X_train, y_train, batch_size=180, epochs=70, validation_data=(X_valid, y_valid)) #batch_size è il numero di samples che utilizziamo in ciascuna iterazione"
      ]
    },
    {
      "cell_type": "code",
      "execution_count": 126,
      "metadata": {
        "colab": {
          "base_uri": "https://localhost:8080/"
        },
        "id": "pn0_qlsnf66L",
        "outputId": "e4abcfbf-9b5c-43f7-cd40-886a20bbfd1b"
      },
      "outputs": [
        {
          "output_type": "stream",
          "name": "stdout",
          "text": [
            "1310/1310 [==============================] - 2s 1ms/step - loss: 0.6495 - accuracy: 0.6228\n"
          ]
        },
        {
          "output_type": "execute_result",
          "data": {
            "text/plain": [
              "[0.6494836807250977, 0.6228126883506775]"
            ]
          },
          "metadata": {},
          "execution_count": 126
        }
      ],
      "source": [
        "model1.evaluate(X_test, y_test)"
      ]
    },
    {
      "cell_type": "code",
      "execution_count": 127,
      "metadata": {
        "colab": {
          "base_uri": "https://localhost:8080/",
          "height": 297
        },
        "id": "adr80oGof63m",
        "outputId": "77b7f0ef-b627-479e-e627-ebf2e993cc59"
      },
      "outputs": [
        {
          "output_type": "display_data",
          "data": {
            "text/plain": [
              "<Figure size 864x288 with 2 Axes>"
            ],
            "image/png": "[encoded data removed]"
          },
          "metadata": {
            "needs_background": "light"
          }
        }
      ],
      "source": [
        "#plot accuracy during training/validation\n",
        "fig, ax = plt.subplots(figsize=(12, 4), ncols=2)\n",
        "ax[0].plot(history.history['accuracy'], label='Train accuracy')\n",
        "ax[0].plot(history.history['val_accuracy'], label='Test accuracy')\n",
        "ax[0].set_yscale('log')\n",
        "ax[0].legend()\n",
        "ax[1].plot(history.history['loss'], label='Train loss')\n",
        "ax[1].plot(history.history['val_loss'], label='Test loss')\n",
        "ax[1].legend()\n",
        "plt.tight_layout()\n",
        "plt.show()"
      ]
    },
    {
      "cell_type": "markdown",
      "metadata": {
        "id": "a4YVTaYigJEK"
      },
      "source": [
        "SVM"
      ]
    },
    {
      "cell_type": "code",
      "execution_count": 76,
      "metadata": {
        "id": "_bahe1ZRf61G"
      },
      "outputs": [],
      "source": [
        "#create a classifier\n",
        "cls = svm.SVC(C= .1, kernel=\"rbf\", gamma= 1)\n",
        "\n",
        "#train the model\n",
        "hist= cls.fit(X_train,y_train)\n",
        "\n",
        "#predict the response\n",
        "pred = cls.predict(X_test)\n",
        "\n",
        "pred_train=cls.predict(X_train)"
      ]
    },
    {
      "cell_type": "code",
      "execution_count": 77,
      "metadata": {
        "colab": {
          "base_uri": "https://localhost:8080/"
        },
        "id": "ZJZt8dfzf6uj",
        "outputId": "c28b9cba-e5f3-4a3b-f2b2-e1ee4f63765a"
      },
      "outputs": [
        {
          "output_type": "stream",
          "name": "stdout",
          "text": [
            "accuracy: 0.6183723650600397\n",
            "precision: 0.6242563615457681\n",
            "recall 0.5958390991076967\n",
            "f1-score 0.609716796875\n",
            "ROC AUC 0.6183858212909017\n",
            "              precision    recall  f1-score   support\n",
            "\n",
            "           0       0.61      0.64      0.63     20932\n",
            "           1       0.62      0.60      0.61     20957\n",
            "\n",
            "    accuracy                           0.62     41889\n",
            "   macro avg       0.62      0.62      0.62     41889\n",
            "weighted avg       0.62      0.62      0.62     41889\n",
            "\n"
          ]
        }
      ],
      "source": [
        "#accuracy\n",
        "print(\"accuracy:\", mt.accuracy_score(y_test, pred))\n",
        "#precision score\n",
        "print(\"precision:\", mt.precision_score(y_test,pred))\n",
        "#recall score\n",
        "print(\"recall\" , mt.recall_score(y_test,pred))\n",
        "#auc\n",
        "print(\"f1-score\", mt.f1_score(y_test, pred))\n",
        "print(\"ROC AUC\", roc_auc_score(y_test, pred))\n",
        "print(mt.classification_report(y_test, pred))"
      ]
    },
    {
      "cell_type": "code",
      "execution_count": 78,
      "metadata": {
        "id": "U5x2voxagSFR",
        "colab": {
          "base_uri": "https://localhost:8080/",
          "height": 562
        },
        "outputId": "0ee34e21-9f92-4c1d-e824-1de314ccfa62"
      },
      "outputs": [
        {
          "output_type": "display_data",
          "data": {
            "text/plain": [
              "<Figure size 432x288 with 2 Axes>"
            ],
            "image/png": "[encoded data removed]"
          },
          "metadata": {
            "needs_background": "light"
          }
        },
        {
          "output_type": "display_data",
          "data": {
            "text/plain": [
              "<Figure size 432x288 with 2 Axes>"
            ],
            "image/png": "[encoded data removed]"
          },
          "metadata": {
            "needs_background": "light"
          }
        }
      ],
      "source": [
        "#fig, ax = plt.subplots(figsize=(12, 6), ncols=1)\n",
        "cmd_train = mt.ConfusionMatrixDisplay.from_predictions(y_train, pred_train, values_format='g')\n",
        "#cmd_test = mt.ConfusionMatrixDisplay(confusion_matrix=mt.confusion_matrix(y_test, pred), values_format = '.5f')\n",
        "cmd_test=mt.ConfusionMatrixDisplay.from_predictions(y_test, pred, values_format='g')\n",
        "#cmd_train.plot(ax=ax[0], cmap='Greys', colorbar=False)\n",
        "#cmd_test.plot(ax=ax, cmap='Greys', colorbar=False)\n",
        "#ax[0].set_title('Trainset')\n",
        "#ax.set_title('Testset')\n",
        "plt.tight_layout()\n",
        "plt.show()"
      ]
    },
    {
      "cell_type": "code",
      "execution_count": 79,
      "metadata": {
        "colab": {
          "base_uri": "https://localhost:8080/"
        },
        "id": "UEGpXe0e6d3d",
        "outputId": "46e99a01-8b52-4d07-894f-8d8edd1043d4"
      },
      "outputs": [
        {
          "output_type": "stream",
          "name": "stdout",
          "text": [
            "not entailment\n"
          ]
        }
      ],
      "source": [
        "print(check_similarity('A soccer game with multiple males playing.','Some men are playing a sport.', cls))#wrong case"
      ]
    },
    {
      "cell_type": "code",
      "execution_count": 80,
      "metadata": {
        "colab": {
          "base_uri": "https://localhost:8080/"
        },
        "id": "ve4JrKzX6dtQ",
        "outputId": "4f36b75a-c298-4874-bd63-ee573457d9ba"
      },
      "outputs": [
        {
          "output_type": "stream",
          "name": "stdout",
          "text": [
            "not entailment\n"
          ]
        }
      ],
      "source": [
        "print(check_similarity('A man inspects the uniform of a figure in some East Asian country.','The man is sleeping', cls))"
      ]
    },
    {
      "cell_type": "code",
      "execution_count": 81,
      "metadata": {
        "colab": {
          "base_uri": "https://localhost:8080/"
        },
        "id": "VMZI8tRM6ou2",
        "outputId": "038fb830-f7f4-4323-b0f1-fb90d91ccea5"
      },
      "outputs": [
        {
          "output_type": "stream",
          "name": "stdout",
          "text": [
            "entailment\n"
          ]
        }
      ],
      "source": [
        "print(check_similarity('Marco is going to go out to buy something','Marco will buy something', cls))"
      ]
    },
    {
      "cell_type": "markdown",
      "metadata": {
        "id": "KNMz0Jkg_uwj"
      },
      "source": [
        "LOGISTIC REGRESSION"
      ]
    },
    {
      "cell_type": "code",
      "execution_count": 82,
      "metadata": {
        "id": "jIKzw-GO_xWk"
      },
      "outputs": [],
      "source": [
        "logmodel = LogisticRegression()\n",
        "logmodel.fit(X_train, y_train)\n",
        "predictions = logmodel.predict(X_test)\n",
        "pred_train= logmodel.predict(X_train)"
      ]
    },
    {
      "cell_type": "code",
      "execution_count": 83,
      "metadata": {
        "id": "UZqLapkB_xTy",
        "colab": {
          "base_uri": "https://localhost:8080/"
        },
        "outputId": "964a9396-327c-45ae-eb0b-6dc4bfa56c9b"
      },
      "outputs": [
        {
          "output_type": "stream",
          "name": "stdout",
          "text": [
            "precision: 0.6189330896147001\n",
            "accuracy: 0.6177516770512546\n",
            "recall 0.6139714653814955\n",
            "f1-score 0.6164422938724669\n",
            "ROC AUC 0.6177539344870404\n",
            "              precision    recall  f1-score   support\n",
            "\n",
            "           0       0.62      0.62      0.62     20932\n",
            "           1       0.62      0.61      0.62     20957\n",
            "\n",
            "    accuracy                           0.62     41889\n",
            "   macro avg       0.62      0.62      0.62     41889\n",
            "weighted avg       0.62      0.62      0.62     41889\n",
            "\n"
          ]
        }
      ],
      "source": [
        "print(\"precision:\", mt.precision_score(y_test,predictions))\n",
        "print(\"accuracy:\", mt.accuracy_score(y_test, predictions))\n",
        "print(\"recall\" , mt.recall_score(y_test,predictions))\n",
        "print(\"f1-score\", mt.f1_score(y_test, predictions))\n",
        "print(\"ROC AUC\", roc_auc_score(y_test, predictions))\n",
        "\n",
        "print(mt.classification_report(y_test, predictions))"
      ]
    },
    {
      "cell_type": "code",
      "execution_count": 84,
      "metadata": {
        "id": "BiaUR0sF_xPT",
        "colab": {
          "base_uri": "https://localhost:8080/",
          "height": 559
        },
        "outputId": "8e91e184-0f45-4a3b-ee03-e4c92db1824c"
      },
      "outputs": [
        {
          "output_type": "display_data",
          "data": {
            "text/plain": [
              "<Figure size 432x288 with 2 Axes>"
            ],
            "image/png": "[encoded data removed]"
          },
          "metadata": {
            "needs_background": "light"
          }
        },
        {
          "output_type": "display_data",
          "data": {
            "text/plain": [
              "<Figure size 432x288 with 2 Axes>"
            ],
            "image/png": "[encoded data removed]"
          },
          "metadata": {
            "needs_background": "light"
          }
        }
      ],
      "source": [
        "#fig, ax = plt.subplots(figsize=(12, 6), ncols=1)\n",
        "cmd_train = mt.ConfusionMatrixDisplay.from_predictions(y_train, pred_train, values_format='g')\n",
        "#cmd_test = mt.ConfusionMatrixDisplay(confusion_matrix=mt.confusion_matrix(y_test, pred), values_format = '.5f')\n",
        "cmd_test=mt.ConfusionMatrixDisplay.from_predictions(y_test, pred, values_format='g')\n",
        "#cmd_train.plot(ax=ax[0], cmap='Greys', colorbar=False)\n",
        "#cmd_test.plot(ax=ax, cmap='Greys', colorbar=False)\n",
        "#ax[0].set_title('Trainset')\n",
        "#ax.set_title('Testset')\n",
        "plt.tight_layout()\n",
        "plt.show()"
      ]
    },
    {
      "cell_type": "code",
      "execution_count": null,
      "metadata": {
        "id": "J0s0I4X7uabo"
      },
      "outputs": [],
      "source": [
        "df_tr = pd.DataFrame(similarity_sentences,columns=['sim_wordnet'])"
      ]
    },
    {
      "cell_type": "code",
      "execution_count": null,
      "metadata": {
        "id": "OiT856ySubHO"
      },
      "outputs": [],
      "source": [
        "X=df_tr[df_tr.columns[:]].values"
      ]
    },
    {
      "cell_type": "code",
      "execution_count": null,
      "metadata": {
        "id": "oZYhX3deufK0"
      },
      "outputs": [],
      "source": [
        "X_tr, X_tmp, y_tr, y_tmp= train_test_split(X, label_train, test_size=0.3, random_state=0)\n",
        "X_val, X_t, y_val, y_t= train_test_split(X_tmp, y_tmp, test_size=0.4, random_state=0)"
      ]
    },
    {
      "cell_type": "code",
      "execution_count": null,
      "metadata": {
        "id": "s7zcQR0L_xMK",
        "colab": {
          "base_uri": "https://localhost:8080/",
          "height": 282
        },
        "outputId": "299ce077-9434-42ab-984f-86f14163927a"
      },
      "outputs": [
        {
          "output_type": "execute_result",
          "data": {
            "text/plain": [
              "<matplotlib.axes._subplots.AxesSubplot at 0x7f504d45ad10>"
            ]
          },
          "metadata": {},
          "execution_count": 90
        },
        {
          "output_type": "display_data",
          "data": {
            "text/plain": [
              "<Figure size 432x288 with 1 Axes>"
            ],
            "image/png": "[encoded data removed]"
          },
          "metadata": {
            "needs_background": "light"
          }
        }
      ],
      "source": [
        "sns.regplot(x=X_tr, y=y_tr, data=df_tr, logistic=True, ci=None, scatter_kws={'color': 'black'}, line_kws={'color': 'red'})"
      ]
    },
    {
      "cell_type": "code",
      "execution_count": null,
      "metadata": {
        "id": "aTHOJv___wrU",
        "colab": {
          "base_uri": "https://localhost:8080/",
          "height": 282
        },
        "outputId": "4807cb29-0090-462e-89b9-cb0b207e129f"
      },
      "outputs": [
        {
          "output_type": "execute_result",
          "data": {
            "text/plain": [
              "<matplotlib.axes._subplots.AxesSubplot at 0x7f504d413490>"
            ]
          },
          "metadata": {},
          "execution_count": 91
        },
        {
          "output_type": "display_data",
          "data": {
            "text/plain": [
              "<Figure size 432x288 with 1 Axes>"
            ],
            "image/png": "[encoded data removed]"
          },
          "metadata": {
            "needs_background": "light"
          }
        }
      ],
      "source": [
        "sns.regplot(x=X_t, y=y_t, data=df_tr, logistic=True, ci=None, scatter_kws={'color': 'black'}, line_kws={'color': 'red'})"
      ]
    },
    {
      "cell_type": "markdown",
      "source": [
        "KNN"
      ],
      "metadata": {
        "id": "WUdwe0iKdr3Y"
      }
    },
    {
      "cell_type": "code",
      "source": [
        "knn = KNeighborsClassifier(n_neighbors = 21)\n",
        "knn.fit(X_train, y_train)"
      ],
      "metadata": {
        "colab": {
          "base_uri": "https://localhost:8080/"
        },
        "id": "trTt-p62dtN2",
        "outputId": "a7ce6ab0-3ea6-49b8-83a4-d194f7a83b44"
      },
      "execution_count": 118,
      "outputs": [
        {
          "output_type": "execute_result",
          "data": {
            "text/plain": [
              "KNeighborsClassifier(n_neighbors=21)"
            ]
          },
          "metadata": {},
          "execution_count": 118
        }
      ]
    },
    {
      "cell_type": "code",
      "source": [
        "prediction_knn = knn.predict(X_test)\n",
        "prediction_train= knn.predict(X_train)"
      ],
      "metadata": {
        "id": "u0xn3bztdteY"
      },
      "execution_count": 119,
      "outputs": []
    },
    {
      "cell_type": "code",
      "source": [
        "cmd_train = mt.ConfusionMatrixDisplay.from_predictions(y_train, prediction_train, values_format='g')\n",
        "cmd_test=mt.ConfusionMatrixDisplay.from_predictions(y_test, prediction_knn, values_format='g')\n",
        "plt.tight_layout()\n",
        "plt.show()\n",
        "\n",
        "print(\"precision:\", mt.precision_score(y_test,prediction_knn))\n",
        "print(\"accuracy:\", mt.accuracy_score(y_test, prediction_knn))\n",
        "print(\"recall\" , mt.recall_score(y_test,prediction_knn))\n",
        "print(\"f1-score\", mt.f1_score(y_test, prediction_knn))\n",
        "print(\"ROC AUC\", roc_auc_score(y_test, prediction_knn))\n",
        "print(classification_report(y_test, prediction_knn))"
      ],
      "metadata": {
        "colab": {
          "base_uri": "https://localhost:8080/",
          "height": 802
        },
        "id": "dY7hILlod44s",
        "outputId": "b130cbc9-4031-4464-aa40-7b70d2623b3a"
      },
      "execution_count": 120,
      "outputs": [
        {
          "output_type": "display_data",
          "data": {
            "text/plain": [
              "<Figure size 432x288 with 2 Axes>"
            ],
            "image/png": "[encoded data removed]"
          },
          "metadata": {
            "needs_background": "light"
          }
        },
        {
          "output_type": "display_data",
          "data": {
            "text/plain": [
              "<Figure size 432x288 with 2 Axes>"
            ],
            "image/png": "[encoded data removed]"
          },
          "metadata": {
            "needs_background": "light"
          }
        },
        {
          "output_type": "stream",
          "name": "stdout",
          "text": [
            "precision: 0.6030295626679697\n",
            "accuracy: 0.6003724128052711\n",
            "recall 0.5888724531182898\n",
            "f1-score 0.5958669306165806\n",
            "ROC AUC 0.6003792802568327\n",
            "              precision    recall  f1-score   support\n",
            "\n",
            "           0       0.60      0.61      0.60     20932\n",
            "           1       0.60      0.59      0.60     20957\n",
            "\n",
            "    accuracy                           0.60     41889\n",
            "   macro avg       0.60      0.60      0.60     41889\n",
            "weighted avg       0.60      0.60      0.60     41889\n",
            "\n"
          ]
        }
      ]
    }
  ],
  "metadata": {
    "colab": {
      "collapsed_sections": [],
      "name": "RTEProject.ipynb",
      "provenance": []
    },
    "gpuClass": "standard",
    "kernelspec": {
      "display_name": "Python 3",
      "name": "python3"
    },
    "language_info": {
      "name": "python"
    }
  },
  "nbformat": 4,
  "nbformat_minor": 0
}